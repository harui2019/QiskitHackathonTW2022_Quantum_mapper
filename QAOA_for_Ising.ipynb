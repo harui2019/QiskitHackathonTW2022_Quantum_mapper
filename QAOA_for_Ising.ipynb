{
  "cells": [
    {
      "cell_type": "code",
      "execution_count": 1,
      "metadata": {
        "colab": {
          "base_uri": "https://localhost:8080/"
        },
        "id": "tjB6BhZPB1W3",
        "outputId": "cb6809ef-b236-4a4f-a2f9-04efa611028d"
      },
      "outputs": [],
      "source": [
        "from qiskit import *\n",
        "\n",
        "import torch\n",
        "import torch.nn as nn\n",
        "\n",
        "# Import from Qiskit Aer noise module\n",
        "from qiskit.providers.aer import AerSimulator\n",
        "from qiskit.providers.aer.noise import NoiseModel\n",
        "from qiskit.providers.aer.noise import QuantumError, ReadoutError\n",
        "from qiskit.providers.aer.noise import pauli_error\n",
        "from qiskit.providers.aer.noise import depolarizing_error\n",
        "from qiskit.providers.aer.noise import thermal_relaxation_error\n",
        "\n",
        "import numpy as np\n",
        "import matplotlib\n",
        "\n",
        "%matplotlib inline\n",
        "%matplotlib inline"
      ]
    },
    {
      "cell_type": "code",
      "execution_count": 2,
      "metadata": {
        "id": "3AkrzCrLHgn3"
      },
      "outputs": [],
      "source": [
        "def construct_noise(nqubits):\n",
        "      \n",
        "    noise = NoiseModel()\n",
        "\n",
        "    ### ----------------- Bit-flip error ----------------- \n",
        "    # Error probabilities\n",
        "    p_gate1_1qubit = 0.00031344\n",
        "    p_gate1_2qubit = 0.0085165\n",
        "\n",
        "    # QuantumError objects\n",
        "    error_gate1 = pauli_error([('X',p_gate1_1qubit), ('I', 1 - p_gate1_1qubit)])\n",
        "    error_gate2 = pauli_error([('X',p_gate1_2qubit), ('I', 1 - p_gate1_2qubit)])\n",
        "    error_gate2 = error_gate2.tensor(error_gate2)\n",
        "\n",
        "    ### ----------------- Thermal relaxation ----------------- \n",
        "    # T1 and T2 values for alll= qubits\n",
        "    T1s = np.random.normal(153.404e3, 0, nqubits) # Sampled from normal distribution mean 50 microsec\n",
        "    T2s = np.random.normal(62.028e3, 0, nqubits)  # Sampled from normal distribution mean 50 microsec\n",
        "\n",
        "    # Truncate random T2s <= T1s\n",
        "    T2s = np.array([min(T2s[j], 2*T1s[j]) for j in range(nqubits)])\n",
        "\n",
        "    # Instruction times (in nanoseconds)\n",
        "    time_sx = 35.55555555555556\n",
        "    time_rz = 35.55555555555556\n",
        "    time_cx = 368\n",
        "    time_measure = 5351.111\n",
        "\n",
        "    # QuantumError objects\n",
        "    errors_measure = [thermal_relaxation_error(t1, t2, time_measure) for t1, t2 in zip(T1s, T2s)]\n",
        "    errors_sx = [thermal_relaxation_error(t1, t2, time_sx) for t1, t2 in zip(T1s, T2s)]\n",
        "    errors_rz = [thermal_relaxation_error(t1, t2, time_rz) for t1, t2 in zip(T1s, T2s)]\n",
        "    errors_cx = [[thermal_relaxation_error(t1a, t2a, time_cx).expand(thermal_relaxation_error(t1b, t2b, time_cx)) for t1a, t2a in zip(T1s, T2s)] for t1b, t2b in zip(T1s, T2s)]\n",
        "\n",
        "\n",
        "    ### ----------------- Compose both noise models ----------------- \n",
        "    # Add errors to noise model\n",
        "    for j in range(nqubits):\n",
        "        noise.add_quantum_error(errors_measure[j], \"measure\", [j])\n",
        "        noise.add_quantum_error(error_gate1.compose(errors_sx[j]), \"sx\", [j])\n",
        "        noise.add_quantum_error(error_gate1.compose(errors_rz[j]), \"rz\", [j])\n",
        "        for k in range(nqubits):\n",
        "            noise.add_quantum_error(error_gate2.compose(errors_cx[j][k]), \"cx\", [j, k])\n",
        "\n",
        "    return noise\n",
        "\n",
        "\n",
        "def describe_qubit(gate, properties):\n",
        "    us = 1e6\n",
        "    ns = 1e9\n",
        "    T1_avg = 0\n",
        "    T2_avg = 0\n",
        "    error_avg = 0\n",
        "    length_avg = 0\n",
        "\n",
        "    print(\"\\nFor the\", gate, \"gate:\\n\")\n",
        "\n",
        "    if gate == 'cx':\n",
        "        n = 0\n",
        "        for gate_i in props.gates:\n",
        "            if 'cx' in gate_i.name:\n",
        "                n += 1\n",
        "                print(\" - {0} gate on qubits {1} error rate is {2}\\n\"\n",
        "                      \" - Gate duration of {3} nanoseconds\\n\".format(gate_i.name, gate_i.qubits, gate_i.parameters[0].value, gate_i.parameters[1].value))\n",
        "                error_avg += gate_i.parameters[0].value\n",
        "                length_avg += gate_i.parameters[1].value\n",
        "        print(\"The avg. gate error = {0}\\n\"\n",
        "              \"The avg. gate duration = {1} nanoseconds\\n\".format(error_avg/n, length_avg/n))\n",
        "\n",
        "    else:\n",
        "        n = config.n_qubits\n",
        "        for i in range(n):\n",
        "            print(\"Qubit {0} has a \\n\"\n",
        "                  \"  - T1 time of {1} microseconds\\n\"\n",
        "                  \"  - T2 time of {2} microseconds\\n\"\n",
        "                  \"  - Gate error of {3}\\n\"\n",
        "                  \"  - Gate duration of {4} nanoseconds\\n\"\n",
        "                 .format(\n",
        "                      i,\n",
        "                      properties.t1(i) * us,\n",
        "                      properties.t2(i) * us,\n",
        "                      properties.gate_error(gate, i),\n",
        "                      properties.gate_length(gate, i) * ns))\n",
        "            T1_avg += properties.t1(i) * us\n",
        "            T2_avg += properties.t2(i) * us\n",
        "            error_avg += properties.gate_error(gate, i)\n",
        "            length_avg += properties.gate_length(gate, i) * ns\n",
        "        print(\"The avg. T1 time = {0} microseconds\\n\"\n",
        "              \"The avg. T2 time = {1} microseconds\\n\"\n",
        "              \"The avg. gate error = {2}\\n\"\n",
        "              \"The avg. gate duration = {3} nanoseconds\\n\".format(T1_avg/n, T2_avg/n, error_avg/n, length_avg/n))"
      ]
    },
    {
      "cell_type": "code",
      "execution_count": 3,
      "metadata": {
        "id": "oBpo_3nZHliC"
      },
      "outputs": [],
      "source": [
        "real_qc = False\n",
        "Noise = False\n",
        "nqubits = 4\n",
        "\n",
        "if real_qc:\n",
        "    # replace TOKEN with your API token string (https://quantum-computing.ibm.com/lab/docs/iql/manage/account/ibmq)\n",
        "    provider = IBMQ.load_account()\n",
        "    # Get backend for experiment\n",
        "    provider = IBMQ.get_provider(hub='ibm-q', group='open', project='main')\n",
        "    backend = provider.get_backend('ibmq_lima')\n",
        "    \n",
        "    config = backend.configuration()\n",
        "    print(\"This backend is called {0}, and is on version {1}. It has {2} qubit{3}. It \"\n",
        "          \"{4} OpenPulse programs. The basis gates supported on this device are {5}.\"\n",
        "          \"\".format(config.backend_name,\n",
        "                    config.backend_version,\n",
        "                    config.n_qubits,\n",
        "                    '' if config.n_qubits == 1 else 's',\n",
        "                    'supports' if config.open_pulse else 'does not support',\n",
        "                    config.basis_gates))\n",
        "    props = backend.properties()           \n",
        "    describe_qubit('cx', props)\n",
        "    \n",
        "else:\n",
        "    if Noise:\n",
        "        noise = construct_noise(nqubits)\n",
        "    else:\n",
        "        noise = None\n",
        "    backend = AerSimulator(noise_model=noise)"
      ]
    },
    {
      "cell_type": "code",
      "execution_count": 4,
      "metadata": {
        "colab": {
          "base_uri": "https://localhost:8080/",
          "height": 336
        },
        "id": "x0I9VPzEJVDJ",
        "outputId": "d551dd07-1532-4672-b2b0-c812a1f280f8"
      },
      "outputs": [
        {
          "name": "stdout",
          "output_type": "stream",
          "text": [
            "The minimum value of the Hamiltonian: -21 the configuration: 0101\n"
          ]
        },
        {
          "data": {
            "image/png": "[encoded data removed]",
            "text/plain": [
              "<Figure size 432x288 with 1 Axes>"
            ]
          },
          "metadata": {},
          "output_type": "display_data"
        }
      ],
      "source": [
        "import networkx as nx\n",
        "from itertools import combinations\n",
        "\n",
        "\n",
        "Ising_coeff = [\n",
        "            [0, 2, 3, 4],\n",
        "            [0, 0, 8, 1],\n",
        "            [0, 0, 0, 11],\n",
        "            [0, 0, 0, 0]\n",
        "        ]\n",
        "\n",
        "\"\"\"\n",
        "Ising_coeff = [\n",
        "            [1, 4],\n",
        "            [0, 1]\n",
        "        ]\n",
        "\"\"\"\n",
        "\n",
        "# Visualize the connectivity of the Ising model\n",
        "G = nx.Graph()\n",
        "pairs = []\n",
        "for i in range(0, nqubits):\n",
        "    G.add_node(i, weight = Ising_coeff[i][i])\n",
        "    for j in range(i+1, nqubits):\n",
        "        pairs.append((i, j, Ising_coeff[i][j]))\n",
        "G.add_weighted_edges_from(pairs)\n",
        "labels = {n: str(n) + ';   ' + str(G.nodes[n]['weight']) for n in G.nodes}\n",
        "nx.draw(G, with_labels=True, labels=labels, alpha=0.8, node_size=500)\n",
        "\n",
        "\n",
        "# @jit(nopython=True, parallel=True, fastmath=True)\n",
        "def H_Ising(bitstring, Ising_coeff):\n",
        "    spins = []\n",
        "    for bit in bitstring:\n",
        "        if bit == '0':\n",
        "            spins.append(-1)\n",
        "        elif bit == '1':\n",
        "            spins.append(1)\n",
        "    H = 0\n",
        "    for i in range(0, nqubits):\n",
        "        H += Ising_coeff[i][i]*spins[i]\n",
        "        for j in range(i+1, nqubits):\n",
        "            H += Ising_coeff[i][j]*spins[i]*spins[j]\n",
        "    return H\n",
        "\n",
        "\n",
        "H_min = 10000\n",
        "for i in range(2**len(Ising_coeff)):\n",
        "    bitstring = np.binary_repr(i, nqubits)\n",
        "    if H_Ising(bitstring, Ising_coeff) < H_min:\n",
        "        H_min = H_Ising(bitstring, Ising_coeff)\n",
        "        config_min = bitstring\n",
        "print('The minimum value of the Hamiltonian:', H_min, 'the configuration:', config_min)"
      ]
    },
    {
      "cell_type": "code",
      "execution_count": 5,
      "metadata": {
        "id": "vDfqwYSbJMQT"
      },
      "outputs": [],
      "source": [
        "\n",
        "\n",
        "def compute_expectation(counts, Ising_coeff):   \n",
        "    \"\"\"\n",
        "    Computes expectation value based on measurement results\n",
        "    \"\"\"   \n",
        "    sum = 0\n",
        "    sum_count = 0\n",
        "    for bitstring, count in counts.items():\n",
        "        sum += count*H_Ising(bitstring, Ising_coeff)\n",
        "        sum_count += count\n",
        "    return sum/sum_count\n",
        "\n",
        "\n",
        "# We will also bring the different circuit components that\n",
        "# build the qaoa circuit under a single function\n",
        "def create_qaoa_circ(Ising_coeff, theta): \n",
        "    \"\"\"\n",
        "    Creates a parametrized qaoa circuit\n",
        "    \"\"\"   \n",
        "    p = len(theta)//2  # number of alternating unitaries\n",
        "    qc = QuantumCircuit(nqubits)\n",
        "    \n",
        "    beta = theta[:p]\n",
        "    gamma = theta[p:]\n",
        "    \n",
        "    # initial_state\n",
        "    for i in range(0, nqubits):\n",
        "        qc.h(i)\n",
        "    \n",
        "    for irep in range(0, p):\n",
        "        \n",
        "        # problem unitary\n",
        "        for i in range(nqubits):\n",
        "            for j in range(i+1, nqubits):\n",
        "                if Ising_coeff != 0:\n",
        "                    qc.rzz(2 * Ising_coeff[i][j]*gamma[irep], i, j)\n",
        "        # mixer unitary\n",
        "        for i in range(nqubits):\n",
        "            qc.rz(2 * Ising_coeff[i][i]*gamma[irep], i)\n",
        "            qc.rx(2 * beta[irep], i)\n",
        "            \n",
        "    qc.measure_all()\n",
        "        \n",
        "    return qc\n",
        "\n",
        "# Finally we write a function that executes the circuit on the chosen backend\n",
        "def get_expectation(theta):\n",
        "    \"\"\"\n",
        "    Runs parametrized circuit and get expectation value\n",
        "    \n",
        "    \"\"\"\n",
        "    qc = create_qaoa_circ(Ising_coeff, theta)       \n",
        "    qc = transpile(qc, backend=backend)\n",
        "    if seed:\n",
        "        seed_simulator = 10\n",
        "    else:\n",
        "        seed_simulator = None\n",
        "    counts = backend.run(qc, seed_simulator=seed_simulator, nshots=shots).result().get_counts()       \n",
        "\n",
        "    return compute_expectation(counts, Ising_coeff)"
      ]
    },
    {
      "cell_type": "code",
      "execution_count": 6,
      "metadata": {
        "colab": {
          "base_uri": "https://localhost:8080/",
          "height": 371
        },
        "id": "lW0r_T-dWzH8",
        "outputId": "5f0baafa-3a5f-47dd-d8f8-2074108531fc"
      },
      "outputs": [
        {
          "data": {
            "text/html": [
              "<pre style=\"word-wrap: normal;white-space: pre;background: #fff0;line-height: 1.1;font-family: &quot;Courier New&quot;,Courier,monospace\">global phase: 0\n",
              "        ┌───┐                                 ┌────────────────┐»\n",
              "   q_0: ┤ H ├─■───────■────────────────■──────┤ U3(2,-π/2,π/2) ├»\n",
              "        ├───┤ │ZZ(4)  │                │      └────────────────┘»\n",
              "   q_1: ┤ H ├─■───────┼───────■────────┼────────────■───────────»\n",
              "        ├───┤         │ZZ(6)  │ZZ(16)  │            │           »\n",
              "   q_2: ┤ H ├─────────■───────■────────┼────────────┼───────────»\n",
              "        ├───┤                          │ZZ(8)       │ZZ(2)      »\n",
              "   q_3: ┤ H ├──────────────────────────■────────────■───────────»\n",
              "        └───┘                                                   »\n",
              "meas: 4/════════════════════════════════════════════════════════»\n",
              "                                                                »\n",
              "«                                             ░ ┌─┐         \n",
              "«   q_0: ─────────────────────────────────────░─┤M├─────────\n",
              "«        ┌────────────────┐                   ░ └╥┘┌─┐      \n",
              "«   q_1: ┤ U3(2,-π/2,π/2) ├───────────────────░──╫─┤M├──────\n",
              "«        └────────────────┘┌────────────────┐ ░  ║ └╥┘┌─┐   \n",
              "«   q_2: ─────■────────────┤ U3(2,-π/2,π/2) ├─░──╫──╫─┤M├───\n",
              "«             │ZZ(22)      ├────────────────┤ ░  ║  ║ └╥┘┌─┐\n",
              "«   q_3: ─────■────────────┤ U3(2,-π/2,π/2) ├─░──╫──╫──╫─┤M├\n",
              "«                          └────────────────┘ ░  ║  ║  ║ └╥┘\n",
              "«meas: 4/════════════════════════════════════════╩══╩══╩══╩═\n",
              "«                                                0  1  2  3 </pre>"
            ],
            "text/plain": [
              "global phase: 0\n",
              "        ┌───┐                                 ┌────────────────┐»\n",
              "   q_0: ┤ H ├─■───────■────────────────■──────┤ U3(2,-π/2,π/2) ├»\n",
              "        ├───┤ │ZZ(4)  │                │      └────────────────┘»\n",
              "   q_1: ┤ H ├─■───────┼───────■────────┼────────────■───────────»\n",
              "        ├───┤         │ZZ(6)  │ZZ(16)  │            │           »\n",
              "   q_2: ┤ H ├─────────■───────■────────┼────────────┼───────────»\n",
              "        ├───┤                          │ZZ(8)       │ZZ(2)      »\n",
              "   q_3: ┤ H ├──────────────────────────■────────────■───────────»\n",
              "        └───┘                                                   »\n",
              "meas: 4/════════════════════════════════════════════════════════»\n",
              "                                                                »\n",
              "«                                             ░ ┌─┐         \n",
              "«   q_0: ─────────────────────────────────────░─┤M├─────────\n",
              "«        ┌────────────────┐                   ░ └╥┘┌─┐      \n",
              "«   q_1: ┤ U3(2,-π/2,π/2) ├───────────────────░──╫─┤M├──────\n",
              "«        └────────────────┘┌────────────────┐ ░  ║ └╥┘┌─┐   \n",
              "«   q_2: ─────■────────────┤ U3(2,-π/2,π/2) ├─░──╫──╫─┤M├───\n",
              "«             │ZZ(22)      ├────────────────┤ ░  ║  ║ └╥┘┌─┐\n",
              "«   q_3: ─────■────────────┤ U3(2,-π/2,π/2) ├─░──╫──╫──╫─┤M├\n",
              "«                          └────────────────┘ ░  ║  ║  ║ └╥┘\n",
              "«meas: 4/════════════════════════════════════════╩══╩══╩══╩═\n",
              "«                                                0  1  2  3 "
            ]
          },
          "execution_count": 6,
          "metadata": {},
          "output_type": "execute_result"
        }
      ],
      "source": [
        "circuit = create_qaoa_circ(Ising_coeff, [1, 1])\n",
        "circuit = transpile(circuit, backend=backend)\n",
        "circuit.draw()"
      ]
    },
    {
      "cell_type": "code",
      "execution_count": 7,
      "metadata": {
        "id": "QaZ4s3ZuT0td"
      },
      "outputs": [],
      "source": [
        "def optimizer(\n",
        "    eps: float, \n",
        "    theta: list[float], \n",
        "    lr: float, \n",
        "    momentum: float\n",
        "):\n",
        "    grad = [0 for t in range(len(theta))]\n",
        "    for i in range(len(theta)):\n",
        "        # Uses a symmetric difference to calulate the gradient\n",
        "        theta[i] += eps\n",
        "        grad[i] = get_expectation(theta)\n",
        "        theta[i] -= 2*eps\n",
        "        grad[i] -= get_expectation(theta)\n",
        "        grad[i] /= 2*eps\n",
        "        theta[i] += eps      \n",
        "        # Update the parameters by gradient descent with momentum\n",
        "        v[i] = momentum*v[i] - lr*grad[i]\n",
        "        theta[i] = theta[i] + v[i]\n",
        "\n",
        "    return theta"
      ]
    },
    {
      "cell_type": "code",
      "execution_count": 8,
      "metadata": {
        "colab": {
          "base_uri": "https://localhost:8080/"
        },
        "id": "V0GmZqmQXff1",
        "outputId": "51b37e01-f826-460b-f197-1dddbdb9ae14"
      },
      "outputs": [
        {
          "name": "stdout",
          "output_type": "stream",
          "text": [
            "The expectation values at iteration = 0 is: 12.9375\n",
            "The expectation values at iteration = 1 is: -11.3359375\n",
            "The expectation values at iteration = 2 is: -10.1640625\n",
            "The expectation values at iteration = 3 is: -14.384765625\n",
            "The expectation values at iteration = 4 is: -15.513671875\n",
            "The expectation values at iteration = 5 is: -15.763671875\n",
            "The expectation values at iteration = 6 is: -16.083984375\n",
            "The expectation values at iteration = 7 is: -15.732421875\n",
            "The expectation values at iteration = 8 is: -15.978515625\n",
            "The expectation values at iteration = 9 is: -17.107421875\n",
            "The expectation values at iteration = 10 is: -16.68359375\n",
            "The expectation values at iteration = 11 is: -16.498046875\n",
            "The expectation values at iteration = 12 is: -17.353515625\n",
            "The expectation values at iteration = 13 is: -16.056640625\n",
            "The expectation values at iteration = 14 is: -15.939453125\n",
            "The expectation values at iteration = 15 is: -17.22265625\n",
            "The expectation values at iteration = 16 is: -17.259765625\n",
            "The expectation values at iteration = 17 is: -17.458984375\n",
            "The expectation values at iteration = 18 is: -17.3984375\n",
            "The expectation values at iteration = 19 is: -17.806640625\n",
            "The expectation values at iteration = 20 is: -17.505859375\n",
            "The expectation values at iteration = 21 is: -17.57421875\n",
            "The expectation values at iteration = 22 is: -17.619140625\n",
            "The expectation values at iteration = 23 is: -17.771484375\n",
            "The expectation values at iteration = 24 is: -17.498046875\n",
            "The expectation values at iteration = 25 is: -17.79296875\n",
            "The expectation values at iteration = 26 is: -17.888671875\n",
            "The expectation values at iteration = 27 is: -17.888671875\n",
            "The expectation values at iteration = 28 is: -17.923828125\n",
            "The expectation values at iteration = 29 is: -17.931640625\n",
            "The expectation values at iteration = 30 is: -17.921875\n",
            "The expectation values at iteration = 31 is: -17.748046875\n",
            "The expectation values at iteration = 32 is: -17.646484375\n",
            "The expectation values at iteration = 33 is: -17.802734375\n",
            "The expectation values at iteration = 34 is: -17.953125\n",
            "The expectation values at iteration = 35 is: -17.994140625\n",
            "The expectation values at iteration = 36 is: -17.990234375\n",
            "The expectation values at iteration = 37 is: -17.984375\n",
            "The expectation values at iteration = 38 is: -17.95703125\n",
            "The expectation values at iteration = 39 is: -17.962890625\n",
            "The expectation values at iteration = 40 is: -18.013671875\n",
            "The expectation values at iteration = 41 is: -18.01171875\n",
            "The expectation values at iteration = 42 is: -17.98046875\n",
            "The expectation values at iteration = 43 is: -18.033203125\n",
            "The expectation values at iteration = 44 is: -18.0\n",
            "The expectation values at iteration = 45 is: -17.95703125\n",
            "The expectation values at iteration = 46 is: -17.97265625\n",
            "The expectation values at iteration = 47 is: -18.0234375\n",
            "The expectation values at iteration = 48 is: -17.986328125\n",
            "The expectation values at iteration = 49 is: -17.99609375\n",
            "The expectation values at iteration = 50 is: -17.998046875\n"
          ]
        }
      ],
      "source": [
        "seed = True\n",
        "shots = 1024\n",
        "eps = 10**-3\n",
        "p = 4\n",
        "lr = 0.0001\n",
        "momentum = 0.5\n",
        "num_steps = 50\n",
        "schedule = [30]\n",
        "lr_decay = 0.1\n",
        "\n",
        "\n",
        "# Initialize the parameters\n",
        "torch.manual_seed(0)\n",
        "theta = torch.empty(int(2*p))\n",
        "torch.nn.init.normal_(theta, mean=0.5, std=0.01)\n",
        "theta = theta.tolist()\n",
        "\n",
        "\n",
        "expectation_list = []\n",
        "theta_list = []\n",
        "# Perform SGD with momentum\n",
        "v = [0 for i in range(int(2*p))]\n",
        "for i in range(num_steps + 1):      # Update the parameters\n",
        "    expectation = get_expectation(theta)\n",
        "    expectation_list.append(expectation)\n",
        "    if i in schedule:      # Learning rate scheduling (step)\n",
        "        lr = lr*lr_decay\n",
        "    theta = optimizer(eps, theta, lr, momentum)\n",
        "    if (i != 0) and (i % 10 == 0):\n",
        "        theta_list.append(theta)\n",
        "    print('The expectation values at iteration =', i, 'is:', expectation)"
      ]
    },
    {
      "cell_type": "code",
      "execution_count": 14,
      "metadata": {},
      "outputs": [
        {
          "data": {
            "text/plain": [
              "[12.9375,\n",
              " -11.3359375,\n",
              " -10.1640625,\n",
              " -14.384765625,\n",
              " -15.513671875,\n",
              " -15.763671875,\n",
              " -16.083984375,\n",
              " -15.732421875,\n",
              " -15.978515625,\n",
              " -17.107421875,\n",
              " -16.68359375,\n",
              " -16.498046875,\n",
              " -17.353515625,\n",
              " -16.056640625,\n",
              " -15.939453125,\n",
              " -17.22265625,\n",
              " -17.259765625,\n",
              " -17.458984375,\n",
              " -17.3984375,\n",
              " -17.806640625,\n",
              " -17.505859375,\n",
              " -17.57421875,\n",
              " -17.619140625,\n",
              " -17.771484375,\n",
              " -17.498046875,\n",
              " -17.79296875,\n",
              " -17.888671875,\n",
              " -17.888671875,\n",
              " -17.923828125,\n",
              " -17.931640625,\n",
              " -17.921875,\n",
              " -17.748046875,\n",
              " -17.646484375,\n",
              " -17.802734375,\n",
              " -17.953125,\n",
              " -17.994140625,\n",
              " -17.990234375,\n",
              " -17.984375,\n",
              " -17.95703125,\n",
              " -17.962890625,\n",
              " -18.013671875,\n",
              " -18.01171875,\n",
              " -17.98046875,\n",
              " -18.033203125,\n",
              " -18.0,\n",
              " -17.95703125,\n",
              " -17.97265625,\n",
              " -18.0234375,\n",
              " -17.986328125,\n",
              " -17.99609375,\n",
              " -17.998046875]"
            ]
          },
          "execution_count": 14,
          "metadata": {},
          "output_type": "execute_result"
        }
      ],
      "source": [
        "expectation_list"
      ]
    },
    {
      "cell_type": "code",
      "execution_count": 15,
      "metadata": {},
      "outputs": [
        {
          "data": {
            "text/plain": [
              "[[0.456507094908526,\n",
              "  0.5368775362090532,\n",
              "  0.43822522933644176,\n",
              "  0.46519471593307987,\n",
              "  0.517743436619134,\n",
              "  0.5323087393659517,\n",
              "  0.4694000650005482,\n",
              "  0.5189806468801501],\n",
              " [0.456507094908526,\n",
              "  0.5368775362090532,\n",
              "  0.43822522933644176,\n",
              "  0.46519471593307987,\n",
              "  0.517743436619134,\n",
              "  0.5323087393659517,\n",
              "  0.4694000650005482,\n",
              "  0.5189806468801501],\n",
              " [0.456507094908526,\n",
              "  0.5368775362090532,\n",
              "  0.43822522933644176,\n",
              "  0.46519471593307987,\n",
              "  0.517743436619134,\n",
              "  0.5323087393659517,\n",
              "  0.4694000650005482,\n",
              "  0.5189806468801501],\n",
              " [0.456507094908526,\n",
              "  0.5368775362090532,\n",
              "  0.43822522933644176,\n",
              "  0.46519471593307987,\n",
              "  0.517743436619134,\n",
              "  0.5323087393659517,\n",
              "  0.4694000650005482,\n",
              "  0.5189806468801501],\n",
              " [0.456507094908526,\n",
              "  0.5368775362090532,\n",
              "  0.43822522933644176,\n",
              "  0.46519471593307987,\n",
              "  0.517743436619134,\n",
              "  0.5323087393659517,\n",
              "  0.4694000650005482,\n",
              "  0.5189806468801501]]"
            ]
          },
          "execution_count": 15,
          "metadata": {},
          "output_type": "execute_result"
        }
      ],
      "source": [
        "theta_list"
      ]
    },
    {
      "cell_type": "code",
      "execution_count": 13,
      "metadata": {},
      "outputs": [
        {
          "data": {
            "text/plain": [
              "[-0.0003744922168756257,\n",
              " 0.00034443673329907353,\n",
              " 4.5482562361972225e-05,\n",
              " -0.00025258727478531394,\n",
              " 5.099252371631493e-06,\n",
              " 1.3892708404641515e-05,\n",
              " -0.00021036868859746676,\n",
              " -9.260013866462786e-05]"
            ]
          },
          "execution_count": 13,
          "metadata": {},
          "output_type": "execute_result"
        }
      ],
      "source": [
        "v"
      ]
    },
    {
      "cell_type": "code",
      "execution_count": 9,
      "metadata": {
        "colab": {
          "base_uri": "https://localhost:8080/",
          "height": 122
        },
        "id": "WhjeyIroT0wE",
        "outputId": "5a950a34-6893-41a2-c5f4-3ee4f6e79637"
      },
      "outputs": [
        {
          "data": {
            "text/plain": [
              "\"\\nseed = True\\nshots = 1024\\neps = 10**-3\\nmomentum = 0.0\\nnum_steps = 100\\nschedule = [60]\\nlr_decay = 0.1\\n\\np_list = [int(i+1) for i in range(10)]\\nlr_list = [0.5*10**-2, 1*10**-2, 2*10**-2, 5*10**-2, 10*10**-2, 20*10**-2, 50*10**-2]\\n\\np_list = [2]\\nlr_list = [0.01]\\n\\n\\nminimum_list = []\\nlr_best_list = []\\ntheta_best_list = []\\nfor num_p in p_list:\\n    p = num_p\\n    print('\\nFor p =', p, ':')\\n    minimum = 1\\n    for lr in lr_list:\\n        # Initialize the parameters\\n        torch.manual_seed(0)\\n        theta = torch.empty(1, int(2*p))\\n        torch.nn.init.normal_(theta, mean=0.5, std=0.01)\\n        theta = theta.tolist()[0]\\n        # Perform SGD with momentum\\n        v = [0 for i in range(len(theta))]\\n        for i in range(num_steps + 1):      # Update the parameters\\n            if i in schedule:      # Learning rate scheduling (step)\\n                lr = lr*lr_decay\\n            theta = optimizer(eps, theta, lr, momentum)\\n\\n        expectation = get_expectation(theta)\\n        if expectation < minimum:\\n            minimum = expectation\\n            lr_best = lr\\n            theta_best = theta\\n\\n        print('Learning rate =', lr, 'the expectation value =', expectation)\\n\\n    minimum_list.append(minimum)\\n    lr_best_list.append(lr_best)\\n    theta_best_list.append(theta_best)\\n    print('The min. expectation value = ', minimum, 'when learning rate =', lr_best)\\n    print('-----------------Temporary results-----------------')\\n    for i in range(len(minimum_list)): \\n        print('The optimized parameters:',  theta_best_list[i])\\n    print('Min. expectaion value =', minimum_list)\\n    print('Best learning rate =', lr_best_list)\\n\""
            ]
          },
          "execution_count": 9,
          "metadata": {},
          "output_type": "execute_result"
        }
      ],
      "source": [
        "\"\"\"\n",
        "seed = True\n",
        "shots = 1024\n",
        "eps = 10**-3\n",
        "momentum = 0.0\n",
        "num_steps = 100\n",
        "schedule = [60]\n",
        "lr_decay = 0.1\n",
        "\n",
        "p_list = [int(i+1) for i in range(10)]\n",
        "lr_list = [0.5*10**-2, 1*10**-2, 2*10**-2, 5*10**-2, 10*10**-2, 20*10**-2, 50*10**-2]\n",
        "\n",
        "p_list = [2]\n",
        "lr_list = [0.01]\n",
        "\n",
        "\n",
        "minimum_list = []\n",
        "lr_best_list = []\n",
        "theta_best_list = []\n",
        "for num_p in p_list:\n",
        "    p = num_p\n",
        "    print('\\nFor p =', p, ':')\n",
        "    minimum = 1\n",
        "    for lr in lr_list:\n",
        "        # Initialize the parameters\n",
        "        torch.manual_seed(0)\n",
        "        theta = torch.empty(1, int(2*p))\n",
        "        torch.nn.init.normal_(theta, mean=0.5, std=0.01)\n",
        "        theta = theta.tolist()[0]\n",
        "        # Perform SGD with momentum\n",
        "        v = [0 for i in range(len(theta))]\n",
        "        for i in range(num_steps + 1):      # Update the parameters\n",
        "            if i in schedule:      # Learning rate scheduling (step)\n",
        "                lr = lr*lr_decay\n",
        "            theta = optimizer(eps, theta, lr, momentum)\n",
        "\n",
        "        expectation = get_expectation(theta)\n",
        "        if expectation < minimum:\n",
        "            minimum = expectation\n",
        "            lr_best = lr\n",
        "            theta_best = theta\n",
        "\n",
        "        print('Learning rate =', lr, 'the expectation value =', expectation)\n",
        "\n",
        "    minimum_list.append(minimum)\n",
        "    lr_best_list.append(lr_best)\n",
        "    theta_best_list.append(theta_best)\n",
        "    print('The min. expectation value = ', minimum, 'when learning rate =', lr_best)\n",
        "    print('-----------------Temporary results-----------------')\n",
        "    for i in range(len(minimum_list)): \n",
        "        print('The optimized parameters:',  theta_best_list[i])\n",
        "    print('Min. expectaion value =', minimum_list)\n",
        "    print('Best learning rate =', lr_best_list)\n",
        "\"\"\""
      ]
    },
    {
      "cell_type": "code",
      "execution_count": 10,
      "metadata": {
        "colab": {
          "base_uri": "https://localhost:8080/",
          "height": 348
        },
        "id": "UeKPmGBoT0yo",
        "outputId": "4d027d50-84d6-4828-ecfa-c5ac8ddcd7c8"
      },
      "outputs": [
        {
          "data": {
            "image/png": "[encoded data removed]",
            "text/plain": [
              "<Figure size 504x360 with 1 Axes>"
            ]
          },
          "execution_count": 10,
          "metadata": {},
          "output_type": "execute_result"
        }
      ],
      "source": [
        "from qiskit.visualization import plot_histogram\n",
        "\n",
        "qc_result = create_qaoa_circ(Ising_coeff, theta)\n",
        "counts = backend.run(qc_result).result().get_counts()\n",
        "\n",
        "plot_histogram(counts)"
      ]
    },
    {
      "cell_type": "code",
      "execution_count": 11,
      "metadata": {
        "colab": {
          "base_uri": "https://localhost:8080/"
        },
        "id": "ywiNwMYOT79F",
        "outputId": "8e7b2d7e-87fe-4277-9faa-9016dcc26918"
      },
      "outputs": [
        {
          "name": "stdout",
          "output_type": "stream",
          "text": [
            "{'0110': 1, '0111': 6, '0010': 46, '0101': 408, '1010': 405, '1011': 9, '0011': 8, '0100': 12, '1110': 33, '1101': 45, '1100': 18, '0001': 31, '1000': 2}\n"
          ]
        }
      ],
      "source": [
        "print(counts)"
      ]
    }
  ],
  "metadata": {
    "colab": {
      "collapsed_sections": [],
      "name": "QAOA_for_Ising.ipynb",
      "provenance": []
    },
    "kernelspec": {
      "display_name": "Python 3.9.7 ('base')",
      "language": "python",
      "name": "python3"
    },
    "language_info": {
      "codemirror_mode": {
        "name": "ipython",
        "version": 3
      },
      "file_extension": ".py",
      "mimetype": "text/x-python",
      "name": "python",
      "nbconvert_exporter": "python",
      "pygments_lexer": "ipython3",
      "version": "3.9.7"
    },
    "vscode": {
      "interpreter": {
        "hash": "159f4e407912a17e167f5db34c957ad4331db5f294b01a1425dfe1db5ae08f50"
      }
    }
  },
  "nbformat": 4,
  "nbformat_minor": 0
}
