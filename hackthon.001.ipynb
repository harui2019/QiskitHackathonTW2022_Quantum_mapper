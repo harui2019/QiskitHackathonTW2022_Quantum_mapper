{
 "cells": [
  {
   "cell_type": "code",
   "execution_count": 8,
   "metadata": {},
   "outputs": [
    {
     "name": "stdout",
     "output_type": "stream",
     "text": [
      "Modules import completed...\n",
      "------------------------------\n",
      " ### Init IBMQ and Set up provider\n",
      "IBMQ loading completed...\n"
     ]
    }
   ],
   "source": [
    "import os\n",
    "import sys\n",
    "import numpy as np\n",
    "import matplotlib.pyplot as plt\n",
    "from pathlib import Path\n",
    "from math import pi\n",
    "# qiskit\n",
    "from qiskit import (\n",
    "    IBMQ, execute, transpile,\n",
    "    QuantumRegister, ClassicalRegister, QuantumCircuit,\n",
    ")\n",
    "# qurry\n",
    "sys.path.insert(0, './')\n",
    "from backend import backendWrapper\n",
    "from mori import TagMap\n",
    "print(\"Modules import completed...\")\n",
    "print(\"-\"*30+\"\\n ### Init IBMQ and Set up provider\")\n",
    "IBMQ.load_account()\n",
    "IBMQ.providers()\n",
    "provider = IBMQ.get_provider(\n",
    "    hub='ibm-q-hub-ntu', group='ntu-internal', project='default')\n",
    "backend = backendWrapper(provider)\n",
    "print(\"IBMQ loading completed...\")"
   ]
  },
  {
   "cell_type": "code",
   "execution_count": 22,
   "metadata": {},
   "outputs": [
    {
     "data": {
      "text/plain": [
       "[Nduv(datetime.datetime(2022, 7, 19, 12, 46, 35, tzinfo=tzlocal()), T1, us, 140.57646663031386),\n",
       " Nduv(datetime.datetime(2022, 7, 19, 12, 47, 44, tzinfo=tzlocal()), T2, us, 179.25205664916803),\n",
       " Nduv(datetime.datetime(2022, 7, 19, 20, 40, 29, tzinfo=tzlocal()), frequency, GHz, 4.93297746323154),\n",
       " Nduv(datetime.datetime(2022, 7, 19, 20, 40, 29, tzinfo=tzlocal()), anharmonicity, GHz, -0.3432263547868958),\n",
       " Nduv(datetime.datetime(2022, 7, 19, 12, 43, 24, tzinfo=tzlocal()), readout_error, , 0.006299999999999972),\n",
       " Nduv(datetime.datetime(2022, 7, 19, 12, 43, 24, tzinfo=tzlocal()), prob_meas0_prep1, , 0.0066),\n",
       " Nduv(datetime.datetime(2022, 7, 19, 12, 43, 24, tzinfo=tzlocal()), prob_meas1_prep0, , 0.006000000000000005),\n",
       " Nduv(datetime.datetime(2022, 7, 19, 12, 43, 24, tzinfo=tzlocal()), readout_length, ns, 757.3333333333333)]"
      ]
     },
     "execution_count": 22,
     "metadata": {},
     "output_type": "execute_result"
    }
   ],
   "source": [
    "backend('auckland').properties().qubits[0]"
   ]
  },
  {
   "cell_type": "code",
   "execution_count": 24,
   "metadata": {},
   "outputs": [
    {
     "data": {
      "image/png": "[encoded data removed]",
      "text/plain": [
       "<Figure size 432x288 with 1 Axes>"
      ]
     },
     "metadata": {},
     "output_type": "display_data"
    }
   ],
   "source": [
    "import networkx as nx\n",
    "\n",
    "G = nx.Graph()\n",
    "G.add_nodes_from([0, 1, 2, 3])\n",
    "G.add_edges_from([(0, 1), (1, 2), (2, 3), (3, 0)])\n",
    "nx.draw(G, with_labels=True, alpha=0.8, node_size=500)"
   ]
  },
  {
   "cell_type": "markdown",
   "metadata": {},
   "source": [
    "### The Mixing Unitary"
   ]
  },
  {
   "cell_type": "code",
   "execution_count": 25,
   "metadata": {},
   "outputs": [
    {
     "data": {
      "text/html": [
       "<pre style=\"word-wrap: normal;white-space: pre;background: #fff0;line-height: 1.1;font-family: &quot;Courier New&quot;,Courier,monospace\">     ┌───────────────┐\n",
       "q_0: ┤ Rx(2*$\\beta$) ├\n",
       "     ├───────────────┤\n",
       "q_1: ┤ Rx(2*$\\beta$) ├\n",
       "     ├───────────────┤\n",
       "q_2: ┤ Rx(2*$\\beta$) ├\n",
       "     ├───────────────┤\n",
       "q_3: ┤ Rx(2*$\\beta$) ├\n",
       "     └───────────────┘</pre>"
      ],
      "text/plain": [
       "     ┌───────────────┐\n",
       "q_0: ┤ Rx(2*$\\beta$) ├\n",
       "     ├───────────────┤\n",
       "q_1: ┤ Rx(2*$\\beta$) ├\n",
       "     ├───────────────┤\n",
       "q_2: ┤ Rx(2*$\\beta$) ├\n",
       "     ├───────────────┤\n",
       "q_3: ┤ Rx(2*$\\beta$) ├\n",
       "     └───────────────┘"
      ]
     },
     "execution_count": 25,
     "metadata": {},
     "output_type": "execute_result"
    }
   ],
   "source": [
    "from qiskit import QuantumCircuit, ClassicalRegister, QuantumRegister\n",
    "from qiskit import Aer, execute\n",
    "from qiskit.circuit import Parameter\n",
    "\n",
    "# Adjacency is essentially a matrix which tells you which nodes are\n",
    "# connected. This matrix is given as a sparse matrix, so we need to\n",
    "# convert it to a dense matrix\n",
    "adjacency = nx.adjacency_matrix(G).todense()\n",
    "\n",
    "nqubits = 4\n",
    "\n",
    "beta = Parameter(\"$\\\\beta$\")\n",
    "qc_mix = QuantumCircuit(nqubits)\n",
    "for i in range(0, nqubits):\n",
    "    qc_mix.rx(2 * beta, i)\n",
    "    \n",
    "qc_mix.draw()"
   ]
  },
  {
   "cell_type": "markdown",
   "metadata": {},
   "source": [
    "### The Problem Unitary"
   ]
  },
  {
   "cell_type": "code",
   "execution_count": 26,
   "metadata": {},
   "outputs": [
    {
     "data": {
      "text/html": [
       "<pre style=\"word-wrap: normal;white-space: pre;background: #fff0;line-height: 1.1;font-family: &quot;Courier New&quot;,Courier,monospace\">                                  ░                              ░      »\n",
       "q_0: ──■──────────────────────■───░───■──────────────────────■───░──────»\n",
       "     ┌─┴─┐┌────────────────┐┌─┴─┐ ░   │                      │   ░      »\n",
       "q_1: ┤ X ├┤ Rz(2*$\\gamma$) ├┤ X ├─░───┼──────────────────────┼───░───■──»\n",
       "     └───┘└────────────────┘└───┘ ░   │                      │   ░ ┌─┴─┐»\n",
       "q_2: ─────────────────────────────░───┼──────────────────────┼───░─┤ X ├»\n",
       "                                  ░ ┌─┴─┐┌────────────────┐┌─┴─┐ ░ └───┘»\n",
       "q_3: ─────────────────────────────░─┤ X ├┤ Rz(2*$\\gamma$) ├┤ X ├─░──────»\n",
       "                                  ░ └───┘└────────────────┘└───┘ ░      »\n",
       "«                             ░                              ░ \n",
       "«q_0: ────────────────────────░──────────────────────────────░─\n",
       "«                             ░                              ░ \n",
       "«q_1: ────────────────────■───░──────────────────────────────░─\n",
       "«     ┌────────────────┐┌─┴─┐ ░                              ░ \n",
       "«q_2: ┤ Rz(2*$\\gamma$) ├┤ X ├─░───■──────────────────────■───░─\n",
       "«     └────────────────┘└───┘ ░ ┌─┴─┐┌────────────────┐┌─┴─┐ ░ \n",
       "«q_3: ────────────────────────░─┤ X ├┤ Rz(2*$\\gamma$) ├┤ X ├─░─\n",
       "«                             ░ └───┘└────────────────┘└───┘ ░ </pre>"
      ],
      "text/plain": [
       "                                  ░                              ░      »\n",
       "q_0: ──■──────────────────────■───░───■──────────────────────■───░──────»\n",
       "     ┌─┴─┐┌────────────────┐┌─┴─┐ ░   │                      │   ░      »\n",
       "q_1: ┤ X ├┤ Rz(2*$\\gamma$) ├┤ X ├─░───┼──────────────────────┼───░───■──»\n",
       "     └───┘└────────────────┘└───┘ ░   │                      │   ░ ┌─┴─┐»\n",
       "q_2: ─────────────────────────────░───┼──────────────────────┼───░─┤ X ├»\n",
       "                                  ░ ┌─┴─┐┌────────────────┐┌─┴─┐ ░ └───┘»\n",
       "q_3: ─────────────────────────────░─┤ X ├┤ Rz(2*$\\gamma$) ├┤ X ├─░──────»\n",
       "                                  ░ └───┘└────────────────┘└───┘ ░      »\n",
       "«                             ░                              ░ \n",
       "«q_0: ────────────────────────░──────────────────────────────░─\n",
       "«                             ░                              ░ \n",
       "«q_1: ────────────────────■───░──────────────────────────────░─\n",
       "«     ┌────────────────┐┌─┴─┐ ░                              ░ \n",
       "«q_2: ┤ Rz(2*$\\gamma$) ├┤ X ├─░───■──────────────────────■───░─\n",
       "«     └────────────────┘└───┘ ░ ┌─┴─┐┌────────────────┐┌─┴─┐ ░ \n",
       "«q_3: ────────────────────────░─┤ X ├┤ Rz(2*$\\gamma$) ├┤ X ├─░─\n",
       "«                             ░ └───┘└────────────────┘└───┘ ░ "
      ]
     },
     "execution_count": 26,
     "metadata": {},
     "output_type": "execute_result"
    }
   ],
   "source": [
    "gamma = Parameter(\"$\\\\gamma$\")\n",
    "qc_p = QuantumCircuit(nqubits)\n",
    "for pair in list(G.edges()):  # pairs of nodes\n",
    "    qc_p.rzz(2 * gamma, pair[0], pair[1])\n",
    "    qc_p.barrier()\n",
    "    \n",
    "qc_p.decompose().draw()"
   ]
  },
  {
   "cell_type": "markdown",
   "metadata": {},
   "source": [
    "### The Initial State"
   ]
  },
  {
   "cell_type": "code",
   "execution_count": 28,
   "metadata": {},
   "outputs": [
    {
     "data": {
      "text/html": [
       "<pre style=\"word-wrap: normal;white-space: pre;background: #fff0;line-height: 1.1;font-family: &quot;Courier New&quot;,Courier,monospace\">     ┌───┐\n",
       "q_0: ┤ H ├\n",
       "     ├───┤\n",
       "q_1: ┤ H ├\n",
       "     ├───┤\n",
       "q_2: ┤ H ├\n",
       "     ├───┤\n",
       "q_3: ┤ H ├\n",
       "     └───┘</pre>"
      ],
      "text/plain": [
       "     ┌───┐\n",
       "q_0: ┤ H ├\n",
       "     ├───┤\n",
       "q_1: ┤ H ├\n",
       "     ├───┤\n",
       "q_2: ┤ H ├\n",
       "     ├───┤\n",
       "q_3: ┤ H ├\n",
       "     └───┘"
      ]
     },
     "execution_count": 28,
     "metadata": {},
     "output_type": "execute_result"
    }
   ],
   "source": [
    "qc_0 = QuantumCircuit(nqubits)\n",
    "for i in range(0, nqubits):\n",
    "    qc_0.h(i)\n",
    "    \n",
    "qc_0.draw()"
   ]
  },
  {
   "cell_type": "markdown",
   "metadata": {},
   "source": [
    "### The QAOA"
   ]
  },
  {
   "cell_type": "code",
   "execution_count": 29,
   "metadata": {},
   "outputs": [
    {
     "data": {
      "text/html": [
       "<pre style=\"word-wrap: normal;white-space: pre;background: #fff0;line-height: 1.1;font-family: &quot;Courier New&quot;,Courier,monospace\">     ┌─────────┐                             ░                              ░ »\n",
       "q_0: ┤ U2(0,π) ├──■──────────────────────■───░───■──────────────────────■───░─»\n",
       "     ├─────────┤┌─┴─┐┌────────────────┐┌─┴─┐ ░   │                      │   ░ »\n",
       "q_1: ┤ U2(0,π) ├┤ X ├┤ Rz(2*$\\gamma$) ├┤ X ├─░───┼──────────────────────┼───░─»\n",
       "     ├─────────┤└───┘└────────────────┘└───┘ ░   │                      │   ░ »\n",
       "q_2: ┤ U2(0,π) ├─────────────────────────────░───┼──────────────────────┼───░─»\n",
       "     ├─────────┤                             ░ ┌─┴─┐┌────────────────┐┌─┴─┐ ░ »\n",
       "q_3: ┤ U2(0,π) ├─────────────────────────────░─┤ X ├┤ Rz(2*$\\gamma$) ├┤ X ├─░─»\n",
       "     └─────────┘                             ░ └───┘└────────────────┘└───┘ ░ »\n",
       "«                                  ░                              ░ »\n",
       "«q_0: ─────────────────────────────░──────────────────────────────░─»\n",
       "«                                  ░                              ░ »\n",
       "«q_1: ──■──────────────────────■───░──────────────────────────────░─»\n",
       "«     ┌─┴─┐┌────────────────┐┌─┴─┐ ░                              ░ »\n",
       "«q_2: ┤ X ├┤ Rz(2*$\\gamma$) ├┤ X ├─░───■──────────────────────■───░─»\n",
       "«     └───┘└────────────────┘└───┘ ░ ┌─┴─┐┌────────────────┐┌─┴─┐ ░ »\n",
       "«q_3: ─────────────────────────────░─┤ X ├┤ Rz(2*$\\gamma$) ├┤ X ├─░─»\n",
       "«                                  ░ └───┘└────────────────┘└───┘ ░ »\n",
       "«     ┌────────────────┐\n",
       "«q_0: ┤ R(2*$\\beta$,0) ├\n",
       "«     ├────────────────┤\n",
       "«q_1: ┤ R(2*$\\beta$,0) ├\n",
       "«     ├────────────────┤\n",
       "«q_2: ┤ R(2*$\\beta$,0) ├\n",
       "«     ├────────────────┤\n",
       "«q_3: ┤ R(2*$\\beta$,0) ├\n",
       "«     └────────────────┘</pre>"
      ],
      "text/plain": [
       "     ┌─────────┐                             ░                              ░ »\n",
       "q_0: ┤ U2(0,π) ├──■──────────────────────■───░───■──────────────────────■───░─»\n",
       "     ├─────────┤┌─┴─┐┌────────────────┐┌─┴─┐ ░   │                      │   ░ »\n",
       "q_1: ┤ U2(0,π) ├┤ X ├┤ Rz(2*$\\gamma$) ├┤ X ├─░───┼──────────────────────┼───░─»\n",
       "     ├─────────┤└───┘└────────────────┘└───┘ ░   │                      │   ░ »\n",
       "q_2: ┤ U2(0,π) ├─────────────────────────────░───┼──────────────────────┼───░─»\n",
       "     ├─────────┤                             ░ ┌─┴─┐┌────────────────┐┌─┴─┐ ░ »\n",
       "q_3: ┤ U2(0,π) ├─────────────────────────────░─┤ X ├┤ Rz(2*$\\gamma$) ├┤ X ├─░─»\n",
       "     └─────────┘                             ░ └───┘└────────────────┘└───┘ ░ »\n",
       "«                                  ░                              ░ »\n",
       "«q_0: ─────────────────────────────░──────────────────────────────░─»\n",
       "«                                  ░                              ░ »\n",
       "«q_1: ──■──────────────────────■───░──────────────────────────────░─»\n",
       "«     ┌─┴─┐┌────────────────┐┌─┴─┐ ░                              ░ »\n",
       "«q_2: ┤ X ├┤ Rz(2*$\\gamma$) ├┤ X ├─░───■──────────────────────■───░─»\n",
       "«     └───┘└────────────────┘└───┘ ░ ┌─┴─┐┌────────────────┐┌─┴─┐ ░ »\n",
       "«q_3: ─────────────────────────────░─┤ X ├┤ Rz(2*$\\gamma$) ├┤ X ├─░─»\n",
       "«                                  ░ └───┘└────────────────┘└───┘ ░ »\n",
       "«     ┌────────────────┐\n",
       "«q_0: ┤ R(2*$\\beta$,0) ├\n",
       "«     ├────────────────┤\n",
       "«q_1: ┤ R(2*$\\beta$,0) ├\n",
       "«     ├────────────────┤\n",
       "«q_2: ┤ R(2*$\\beta$,0) ├\n",
       "«     ├────────────────┤\n",
       "«q_3: ┤ R(2*$\\beta$,0) ├\n",
       "«     └────────────────┘"
      ]
     },
     "execution_count": 29,
     "metadata": {},
     "output_type": "execute_result"
    }
   ],
   "source": [
    "qc_qaoa = QuantumCircuit(nqubits)\n",
    "\n",
    "qc_qaoa.append(qc_0, [i for i in range(0, nqubits)])\n",
    "qc_qaoa.append(qc_p, [i for i in range(0, nqubits)])\n",
    "qc_qaoa.append(qc_mix, [i for i in range(0, nqubits)])\n",
    "\n",
    "qc_qaoa.decompose().decompose().draw()"
   ]
  },
  {
   "cell_type": "markdown",
   "metadata": {},
   "source": [
    "## The process"
   ]
  },
  {
   "cell_type": "code",
   "execution_count": null,
   "metadata": {},
   "outputs": [],
   "source": [
    "def H_Ising(bitstring: str, Ising_coeff: np.ndarray):\n",
    "    spins = []\n",
    "    for bit in bitstring:\n",
    "        if bit == '0':\n",
    "            spins.append(-1)\n",
    "        elif bit == '1':\n",
    "            spins.append(1)\n",
    "    H = 0\n",
    "    for i in range(0, nqubits):\n",
    "        H += Ising_coeff[i][i]*spins[i]\n",
    "        for j in range(i+1, nqubits):\n",
    "            H += Ising_coeff[i][j]*spins[i]*spins[j]\n",
    "    return H\n",
    "\n",
    "\n",
    "def compute_expectation(counts: dict, G: nx.Graph):\n",
    "    \n",
    "    \"\"\"\n",
    "    Computes expectation value based on measurement results\n",
    "    \n",
    "    Args:\n",
    "        counts: dict\n",
    "                key as bitstring, val as count\n",
    "           \n",
    "        G: networkx graph\n",
    "        \n",
    "    Returns:\n",
    "        avg: float\n",
    "             expectation value\n",
    "    \"\"\"\n",
    "    \n",
    "    avg = 0\n",
    "    sum_count = 0\n",
    "    for bitstring, count in counts.items():\n",
    "        \n",
    "        obj = H_Ising(bitstring, G)\n",
    "        avg += obj * count\n",
    "        sum_count += count\n",
    "        \n",
    "    return avg/sum_count\n",
    "\n",
    "\n",
    "# We will also bring the different circuit components that\n",
    "# build the qaoa circuit under a single function\n",
    "def create_qaoa_circ(G: nx.Graph, theta: list[float]):\n",
    "    \n",
    "    \"\"\"\n",
    "    Creates a parametrized qaoa circuit\n",
    "    \n",
    "    Args:  \n",
    "        G: networkx graph\n",
    "        theta: list\n",
    "               unitary parameters\n",
    "                     \n",
    "    Returns:\n",
    "        qc: qiskit circuit\n",
    "    \"\"\"\n",
    "    \n",
    "    nqubits = len(G.nodes())\n",
    "    p = len(theta)//2  # number of alternating unitaries\n",
    "    qc = QuantumCircuit(nqubits)\n",
    "    \n",
    "    beta = theta[:p]\n",
    "    gamma = theta[p:]\n",
    "    \n",
    "    # initial_state\n",
    "    for i in range(0, nqubits):\n",
    "        qc.h(i)\n",
    "    \n",
    "    for irep in range(0, p):\n",
    "        \n",
    "        # problem unitary\n",
    "        for pair in list(G.edges()):\n",
    "            qc.rzz(2 * gamma[irep], pair[0], pair[1])\n",
    "\n",
    "        # mixer unitary\n",
    "        for i in range(0, nqubits):\n",
    "            qc.rx(2 * beta[irep], i)\n",
    "            \n",
    "    qc.measure_all()\n",
    "        \n",
    "    return qc\n",
    "\n",
    "# Finally we write a function that executes the circuit on the chosen backend\n",
    "def get_expectation(G, p, shots=512):\n",
    "    \n",
    "    \"\"\"\n",
    "    Runs parametrized circuit\n",
    "    \n",
    "    Args:\n",
    "        G: networkx graph\n",
    "        p: int,\n",
    "           Number of repetitions of unitaries\n",
    "    \"\"\"\n",
    "    \n",
    "    backend = Aer.get_backend('qasm_simulator')\n",
    "    backend.shots = shots\n",
    "    \n",
    "    def execute_circ(theta):\n",
    "        \n",
    "        qc = create_qaoa_circ(G, theta)\n",
    "        counts = backend.run(qc, seed_simulator=10, \n",
    "                             nshots=512).result().get_counts()\n",
    "        \n",
    "        return compute_expectation(counts, G)\n",
    "    \n",
    "    return execute_circ"
   ]
  },
  {
   "cell_type": "code",
   "execution_count": null,
   "metadata": {},
   "outputs": [],
   "source": [
    "from scipy.optimize import minimize\n",
    "\n",
    "\n",
    "expectation = get_expectation(G, p=1)\n",
    "\n",
    "res = minimize(expectation, \n",
    "                      [1.0, 1.0], \n",
    "                      method='COBYLA')\n",
    "res"
   ]
  }
 ],
 "metadata": {
  "kernelspec": {
   "display_name": "Python 3.9.7 ('base')",
   "language": "python",
   "name": "python3"
  },
  "language_info": {
   "codemirror_mode": {
    "name": "ipython",
    "version": 3
   },
   "file_extension": ".py",
   "mimetype": "text/x-python",
   "name": "python",
   "nbconvert_exporter": "python",
   "pygments_lexer": "ipython3",
   "version": "3.9.7"
  },
  "orig_nbformat": 4,
  "vscode": {
   "interpreter": {
    "hash": "159f4e407912a17e167f5db34c957ad4331db5f294b01a1425dfe1db5ae08f50"
   }
  }
 },
 "nbformat": 4,
 "nbformat_minor": 2
}
