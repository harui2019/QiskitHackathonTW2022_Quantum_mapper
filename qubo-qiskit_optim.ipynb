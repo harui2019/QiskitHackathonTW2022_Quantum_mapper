{
 "cells": [
  {
   "cell_type": "markdown",
   "metadata": {},
   "source": [
    "### mode for pyqubo"
   ]
  },
  {
   "cell_type": "code",
   "execution_count": 4,
   "metadata": {},
   "outputs": [],
   "source": [
    "from pyqubo import Binary, solve_qubo\n",
    "import dimod"
   ]
  },
  {
   "cell_type": "raw",
   "metadata": {},
   "source": [
    "bqm = dimod.BQM({}, {('s0', 's1'): -1, ('s0', 's2'): -1, ('s1', 's2'): 1}, 0, dimod.Vartype.SPIN)\n",
    "sampler = EmbeddingComposite(DWaveSampler(solver={'qpu': True}))\n",
    "sampleset = sampler.sample(bqm, num_reads=1000)\n",
    "print(sampleset)"
   ]
  },
  {
   "cell_type": "code",
   "execution_count": 5,
   "metadata": {},
   "outputs": [
    {
     "name": "stdout",
     "output_type": "stream",
     "text": [
      "   x  y energy num_oc.\n",
      "0  1  1   -3.0       1\n",
      "1  1  1   -3.0       1\n",
      "2  1  1   -3.0       1\n",
      "3  1  1   -3.0       1\n",
      "4  1  1   -3.0       1\n",
      "5  1  1   -3.0       1\n",
      "6  1  1   -3.0       1\n",
      "7  1  1   -3.0       1\n",
      "8  1  1   -3.0       1\n",
      "9  1  1   -3.0       1\n",
      "['BINARY', 10 rows, 10 samples, 2 variables]\n"
     ]
    }
   ],
   "source": [
    "x, y = Binary('x'), Binary('y')\n",
    "eq = -(x*y + x + y)\n",
    "\n",
    "model_pyqubo = eq.compile()\n",
    "qubo, offset = model_pyqubo.to_qubo()\n",
    "sampleset = dimod.SimulatedAnnealingSampler().sample_qubo(qubo)\n",
    "print(sampleset)"
   ]
  },
  {
   "cell_type": "markdown",
   "metadata": {},
   "source": [
    "### mode for qiskit.optimization"
   ]
  },
  {
   "cell_type": "code",
   "execution_count": 6,
   "metadata": {},
   "outputs": [],
   "source": [
    "# example to solve a quadraric problem using a Quantum optimization algorithm\n",
    "\n",
    "from qiskit.optimization import QuadraticProgram\n",
    "from qiskit.optimization.algorithms import GroverOptimizer, MinimumEigenOptimizer, RecursiveMinimumEigenOptimizer\n",
    "from qiskit import Aer\n",
    "from docplex.mp.model import Model #another optimization mode made by ibm"
   ]
  },
  {
   "cell_type": "code",
   "execution_count": 11,
   "metadata": {},
   "outputs": [
    {
     "name": "stdout",
     "output_type": "stream",
     "text": [
      "optimal function value: 3.0\n",
      "optimal value: [1 1]\n",
      "status: SUCCESS\n"
     ]
    }
   ],
   "source": [
    "# construct problem with DOcplex\n",
    "model_qiskit = Model('docplex_model')\n",
    "x, y = model_qiskit.binary_var_list(2)\n",
    "model_qiskit.maximize(x*y + x + y)\n",
    "\n",
    "# convert DOcplex model to Qiskit Quadratic Program\n",
    "qp = QuadraticProgram()\n",
    "qp.from_docplex(model_qiskit)\n",
    "\n",
    "# define a Quantum backend on which to run the optimization\n",
    "# a Qiskit simulator in this case\n",
    "backend = Aer.get_backend('statevector_simulator')\n",
    "\n",
    "# use the Grover Adaptive Search (GAS) to solve the optimization problem\n",
    "grover = GroverOptimizer(num_value_qubits=3, quantum_instance=backend)\n",
    "result = grover.solve(qp)\n",
    "\n",
    "# printing results: x=[1.0,1.0], fval=3\n",
    "print(result)"
   ]
  },
  {
   "cell_type": "markdown",
   "metadata": {},
   "source": [
    "### mode for counting running time"
   ]
  },
  {
   "cell_type": "code",
   "execution_count": 30,
   "metadata": {},
   "outputs": [
    {
     "name": "stdout",
     "output_type": "stream",
     "text": [
      "hello\n",
      "0.0\n"
     ]
    }
   ],
   "source": [
    "import time\n",
    "start = time.time()\n",
    "print(\"hello\")\n",
    "end = time.time()\n",
    "print(end - start)"
   ]
  },
  {
   "cell_type": "markdown",
   "metadata": {},
   "source": [
    "### ibmq_init"
   ]
  },
  {
   "cell_type": "code",
   "execution_count": 31,
   "metadata": {},
   "outputs": [],
   "source": [
    "from qiskit import *\n",
    "from qiskit.tools.monitor import job_monitor, backend_monitor, backend_overview\n",
    "from qiskit.providers.ibmq import least_busy\n",
    "from qiskit.tools.visualization import plot_histogram"
   ]
  },
  {
   "cell_type": "code",
   "execution_count": 32,
   "metadata": {},
   "outputs": [
    {
     "name": "stderr",
     "output_type": "stream",
     "text": [
      "C:\\Users\\huai\\Anaconda3\\envs\\quantumsphere\\lib\\site-packages\\qiskit\\providers\\ibmq\\ibmqfactory.py:192: UserWarning: Timestamps in IBMQ backend properties, jobs, and job results are all now in local time instead of UTC.\n",
      "  warnings.warn('Timestamps in IBMQ backend properties, jobs, and job results '\n",
      "ibmqfactory.load_account:WARNING:2020-12-28 14:23:01,647: Credentials are already in use. The existing account in the session will be replaced.\n"
     ]
    },
    {
     "data": {
      "text/plain": [
       "<AccountProvider for IBMQ(hub='ibm-q', group='open', project='main')>"
      ]
     },
     "execution_count": 32,
     "metadata": {},
     "output_type": "execute_result"
    }
   ],
   "source": [
    "IBMQ.load_account()"
   ]
  },
  {
   "cell_type": "code",
   "execution_count": 33,
   "metadata": {},
   "outputs": [
    {
     "data": {
      "text/plain": [
       "[<IBMQSimulator('ibmq_qasm_simulator') from IBMQ(hub='ibm-q', group='open', project='main')>,\n",
       " <IBMQBackend('ibmqx2') from IBMQ(hub='ibm-q', group='open', project='main')>,\n",
       " <IBMQBackend('ibmq_16_melbourne') from IBMQ(hub='ibm-q', group='open', project='main')>,\n",
       " <IBMQBackend('ibmq_vigo') from IBMQ(hub='ibm-q', group='open', project='main')>,\n",
       " <IBMQBackend('ibmq_ourense') from IBMQ(hub='ibm-q', group='open', project='main')>,\n",
       " <IBMQBackend('ibmq_valencia') from IBMQ(hub='ibm-q', group='open', project='main')>,\n",
       " <IBMQBackend('ibmq_armonk') from IBMQ(hub='ibm-q', group='open', project='main')>,\n",
       " <IBMQBackend('ibmq_athens') from IBMQ(hub='ibm-q', group='open', project='main')>,\n",
       " <IBMQBackend('ibmq_santiago') from IBMQ(hub='ibm-q', group='open', project='main')>]"
      ]
     },
     "execution_count": 33,
     "metadata": {},
     "output_type": "execute_result"
    }
   ],
   "source": [
    "provider=IBMQ.get_provider(hub='ibm-q', group='open', project='main')\n",
    "provider.backends()"
   ]
  },
  {
   "cell_type": "code",
   "execution_count": 34,
   "metadata": {},
   "outputs": [
    {
     "data": {
      "text/plain": [
       "<IBMQBackend('ibmq_16_melbourne') from IBMQ(hub='ibm-q', group='open', project='main')>"
      ]
     },
     "execution_count": 34,
     "metadata": {},
     "output_type": "execute_result"
    }
   ],
   "source": [
    "least_busy(backends=provider.backends())"
   ]
  },
  {
   "cell_type": "code",
   "execution_count": 35,
   "metadata": {},
   "outputs": [
    {
     "name": "stdout",
     "output_type": "stream",
     "text": [
      "ibmq_santiago                ibmq_athens                  ibmq_armonk\n",
      "-------------                -----------                  -----------\n",
      "Num. Qubits:  5              Num. Qubits:  5              Num. Qubits:  1\n",
      "Pending Jobs: 6              Pending Jobs: 28             Pending Jobs: 10\n",
      "Least busy:   False          Least busy:   False          Least busy:   False\n",
      "Operational:  True           Operational:  True           Operational:  True\n",
      "Avg. T1:      126.4          Avg. T1:      71.6           Avg. T1:      171.2\n",
      "Avg. T2:      132.0          Avg. T2:      100.6          Avg. T2:      235.3\n",
      "\n",
      "\n",
      "\n",
      "ibmq_valencia               ibmq_ourense                 ibmq_vigo\n",
      "-------------               ------------                 ---------\n",
      "Num. Qubits:  5             Num. Qubits:  5              Num. Qubits:  5\n",
      "Pending Jobs: 3             Pending Jobs: 5              Pending Jobs: 7\n",
      "Least busy:   True          Least busy:   False          Least busy:   False\n",
      "Operational:  True          Operational:  True           Operational:  True\n",
      "Avg. T1:      99.8          Avg. T1:      113.1          Avg. T1:      101.3\n",
      "Avg. T2:      59.9          Avg. T2:      61.1           Avg. T2:      76.4\n",
      "\n",
      "\n",
      "\n",
      "ibmq_16_melbourne            ibmqx2\n",
      "-----------------            ------\n",
      "Num. Qubits:  15             Num. Qubits:  5\n",
      "Pending Jobs: 4              Pending Jobs: 5\n",
      "Least busy:   False          Least busy:   False\n",
      "Operational:  True           Operational:  True\n",
      "Avg. T1:      56.1           Avg. T1:      55.3\n",
      "Avg. T2:      66.1           Avg. T2:      38.4\n",
      "\n",
      "\n",
      "\n"
     ]
    }
   ],
   "source": [
    "# This command takes some time to finish\n",
    "backend_overview()"
   ]
  },
  {
   "cell_type": "code",
   "execution_count": 36,
   "metadata": {},
   "outputs": [],
   "source": [
    "openpovider = IBMQ.get_provider(hub = 'ibm-q', group = 'open', project = 'main')\n",
    "device_qa = openpovider.get_backend('ibmq_16_melbourne')\n",
    "device_qb = openpovider.get_backend('ibmqx2')\n",
    "device_qc = openpovider.get_backend('ibmq_ourense')\n",
    "device_qasm = openpovider.get_backend('ibmq_qasm_simulator')"
   ]
  },
  {
   "cell_type": "markdown",
   "metadata": {},
   "source": [
    "<h3>-----------------------------------------------------------</h3>\n",
    "<h3>test1 - The max cut problem</h3>\n",
    "<br>\n",
    "<img src=\"./maxcut.png\" alt=\"Drawing\" style=\"width: 200px;\"/>\n",
    "\n",
    "<h4>pyqubo</h4>"
   ]
  },
  {
   "cell_type": "code",
   "execution_count": 37,
   "metadata": {},
   "outputs": [
    {
     "data": {
      "text/plain": [
       "((Binary(n5)*Num(2.000000)+Binary(n4)*Num(3.000000)+Binary(n3)*Num(3.000000)+Binary(n1)*Num(2.000000)+Binary(n2)*Num(2.000000))+(Binary(n4)*Binary(n5)+Binary(n3)*Binary(n5)+Binary(n3)*Binary(n4)+Binary(n2)*Binary(n4)+Binary(n1)*Binary(n2)+Binary(n1)*Binary(n3))*Num(2.000000)*Num(-1.000000))*Num(-1.000000)"
      ]
     },
     "execution_count": 37,
     "metadata": {},
     "output_type": "execute_result"
    }
   ],
   "source": [
    "n1, n2, n3, n4, n5 = Binary('n1'), Binary('n2'), Binary('n3'), Binary('n4'), Binary('n5')\n",
    "e1_pyqubo = -(2*n1 + 2*n2 + 3*n3 + 3*n4 + 2*n5 - 2*(n1*n2 + n1*n3 + n2*n4 + n3*n4 + n3*n5 + n4*n5))\n",
    "e1_pyqubo"
   ]
  },
  {
   "cell_type": "code",
   "execution_count": 38,
   "metadata": {},
   "outputs": [
    {
     "data": {
      "text/plain": [
       "(SampleSet(rec.array([([0, 1, 1, 0, 1], -5., 1), ([0, 1, 1, 0, 1], -5., 1),\n",
       "            ([1, 0, 0, 1, 0], -5., 1), ([0, 1, 1, 0, 1], -5., 1),\n",
       "            ([1, 0, 0, 1, 0], -5., 1), ([0, 1, 1, 0, 0], -5., 1),\n",
       "            ([0, 1, 1, 0, 0], -5., 1), ([1, 0, 0, 1, 0], -5., 1),\n",
       "            ([0, 1, 1, 0, 0], -5., 1), ([1, 0, 0, 1, 1], -5., 1)],\n",
       "           dtype=[('sample', 'i1', (5,)), ('energy', '<f8'), ('num_occurrences', '<i4')]), ['n1', 'n2', 'n3', 'n4', 'n5'], {}, 'BINARY'),\n",
       " ('running time:', 0.3354458808898926))"
      ]
     },
     "execution_count": 38,
     "metadata": {},
     "output_type": "execute_result"
    }
   ],
   "source": [
    "m1_pyqubo =e1_pyqubo.compile()\n",
    "qubo_1, offset_1 = m1_pyqubo.to_qubo()\n",
    "start = time.time()\n",
    "sampleset_1 = dimod.SimulatedAnnealingSampler().sample_qubo(qubo_1)\n",
    "end = time.time()\n",
    "sampleset_1, ('running time:', end - start)\n",
    "#qubo_1, offset_1"
   ]
  },
  {
   "cell_type": "code",
   "execution_count": 39,
   "metadata": {},
   "outputs": [
    {
     "data": {
      "text/plain": [
       "{'n1': 0, 'n2': 1, 'n3': 1, 'n4': 0, 'n5': 1}"
      ]
     },
     "execution_count": 39,
     "metadata": {},
     "output_type": "execute_result"
    }
   ],
   "source": [
    "list(sampleset_1)[0]"
   ]
  },
  {
   "cell_type": "markdown",
   "metadata": {},
   "source": [
    "<h4>qiskit.optim.-simulater</h4>\n"
   ]
  },
  {
   "cell_type": "code",
   "execution_count": 40,
   "metadata": {},
   "outputs": [],
   "source": [
    "backend = Aer.get_backend('statevector_simulator')"
   ]
  },
  {
   "cell_type": "code",
   "execution_count": 41,
   "metadata": {},
   "outputs": [
    {
     "name": "stdout",
     "output_type": "stream",
     "text": [
      "\\ This file has been generated by DOcplex\n",
      "\\ ENCODING=ISO-8859-1\n",
      "\\Problem name: docplex_model\n",
      "\n",
      "Maximize\n",
      " obj: 2 x0 + 2 x1 + 3 x2 + 3 x3 + 2 x4 + [ - 4 x0*x1 - 4 x0*x2 - 4 x1*x3\n",
      "      - 4 x2*x3 - 4 x2*x4 - 4 x3*x4 ]/2\n",
      "Subject To\n",
      "\n",
      "Bounds\n",
      " 0 <= x0 <= 1\n",
      " 0 <= x1 <= 1\n",
      " 0 <= x2 <= 1\n",
      " 0 <= x3 <= 1\n",
      " 0 <= x4 <= 1\n",
      "\n",
      "Binaries\n",
      " x0 x1 x2 x3 x4\n",
      "End\n",
      "\n"
     ]
    }
   ],
   "source": [
    "m1_qiskit = Model('docplex_model')\n",
    "n1, n2, n3, n4, n5 = m1_qiskit.binary_var_list(5)\n",
    "m1_qiskit.maximize((2*n1 + 2*n2 + 3*n3 + 3*n4 + 2*n5 - 2*(n1*n2 + n1*n3 + n2*n4 + n3*n4 + n3*n5 + n4*n5)))\n",
    "\n",
    "qp_m1 = QuadraticProgram()\n",
    "qp_m1.from_docplex(m1_qiskit)\n",
    "print(qp_m1.export_as_lp_string())"
   ]
  },
  {
   "cell_type": "markdown",
   "metadata": {},
   "source": [
    "<h5>GroverOptimizer</h5>"
   ]
  },
  {
   "cell_type": "code",
   "execution_count": 42,
   "metadata": {},
   "outputs": [
    {
     "data": {
      "text/plain": [
       "(optimal function value: 0.0\n",
       " optimal value: [0 0 0 0 0]\n",
       " status: SUCCESS,\n",
       " ('running time:', 3.970440626144409))"
      ]
     },
     "execution_count": 42,
     "metadata": {},
     "output_type": "execute_result"
    }
   ],
   "source": [
    "start = time.time()\n",
    "result_13 = GroverOptimizer(num_value_qubits=3, quantum_instance=backend).solve(qp_m1)\n",
    "end = time.time()\n",
    "result_13, ('running time:', end - start)\n",
    "\n",
    "# Grover Adaptive Search\n",
    "# https://qiskit.org/documentation/stubs/qiskit.optimization.algorithms.GroverOptimizer.html#qiskit.optimization.algorithms.GroverOptimizer"
   ]
  },
  {
   "cell_type": "code",
   "execution_count": 43,
   "metadata": {},
   "outputs": [
    {
     "data": {
      "text/plain": [
       "(optimal function value: 5.0\n",
       " optimal value: [0 1 1 0 1]\n",
       " status: SUCCESS,\n",
       " ('running time:', 32.219796657562256))"
      ]
     },
     "execution_count": 43,
     "metadata": {},
     "output_type": "execute_result"
    }
   ],
   "source": [
    "start = time.time()\n",
    "result_14 = GroverOptimizer(num_value_qubits=4, quantum_instance=backend).solve(qp_m1)\n",
    "end = time.time()\n",
    "result_14, ('running time:', end - start)"
   ]
  },
  {
   "cell_type": "code",
   "execution_count": 44,
   "metadata": {},
   "outputs": [
    {
     "data": {
      "text/plain": [
       "(optimal function value: 3.0\n",
       " optimal value: [0 0 1 0 1]\n",
       " status: SUCCESS,\n",
       " ('running time:', 38.679173946380615))"
      ]
     },
     "execution_count": 44,
     "metadata": {},
     "output_type": "execute_result"
    }
   ],
   "source": [
    "start = time.time()\n",
    "result_15 = GroverOptimizer(num_value_qubits=5, quantum_instance=backend).solve(qp_m1)\n",
    "end = time.time()\n",
    "result_15, ('running time:', end - start)"
   ]
  },
  {
   "cell_type": "code",
   "execution_count": 45,
   "metadata": {},
   "outputs": [
    {
     "data": {
      "text/plain": [
       "(optimal function value: 5.0\n",
       " optimal value: [1 0 0 1 1]\n",
       " status: SUCCESS,\n",
       " ('running time:', 132.11046767234802))"
      ]
     },
     "execution_count": 45,
     "metadata": {},
     "output_type": "execute_result"
    }
   ],
   "source": [
    "start = time.time()\n",
    "result_16 = GroverOptimizer(num_value_qubits=6, quantum_instance=backend).solve(qp_m1)\n",
    "end = time.time()\n",
    "result_16, ('running time:', end - start)"
   ]
  },
  {
   "cell_type": "markdown",
   "metadata": {},
   "source": [
    "<h5>MinimumEigenOptimizer</h5>"
   ]
  },
  {
   "cell_type": "code",
   "execution_count": 46,
   "metadata": {},
   "outputs": [],
   "source": [
    "from qiskit.aqua import aqua_globals, QuantumInstance\n",
    "from qiskit.aqua.algorithms import QAOA, NumPyMinimumEigensolver"
   ]
  },
  {
   "cell_type": "code",
   "execution_count": 47,
   "metadata": {},
   "outputs": [
    {
     "data": {
      "text/plain": [
       "(optimal function value: 5.0\n",
       " optimal value: [1. 0. 0. 1. 1.]\n",
       " status: SUCCESS,\n",
       " ('running time:', 0.06286883354187012))"
      ]
     },
     "execution_count": 47,
     "metadata": {},
     "output_type": "execute_result"
    }
   ],
   "source": [
    "start = time.time()\n",
    "exact_mes = MinimumEigenOptimizer(NumPyMinimumEigensolver())\n",
    "# NumPyMinimumEigensolver() is powered by numpy, so it's not quamtum computat.\n",
    "\n",
    "result_101 = exact_mes.solve(qp_m1)\n",
    "end = time.time()\n",
    "result_101, ('running time:', end - start)\n",
    "\n",
    "# https://qiskit.org/documentation/tutorials/optimization/3_minimum_eigen_optimizer.html"
   ]
  },
  {
   "cell_type": "code",
   "execution_count": 48,
   "metadata": {},
   "outputs": [
    {
     "data": {
      "text/plain": [
       "(optimal function value: 5.0\n",
       " optimal value: [0. 1. 1. 0. 0.]\n",
       " status: SUCCESS,\n",
       " ('running time:', 0.4872169494628906))"
      ]
     },
     "execution_count": 48,
     "metadata": {},
     "output_type": "execute_result"
    }
   ],
   "source": [
    "aqua_globals.random_seed = 10598\n",
    "\n",
    "start = time.time()\n",
    "qaoa_mes = QAOA(\n",
    "    quantum_instance = QuantumInstance(\n",
    "        Aer.get_backend('statevector_simulator'),\n",
    "        seed_simulator=aqua_globals.random_seed,\n",
    "        seed_transpiler=aqua_globals.random_seed\n",
    "    ),\n",
    "    initial_point=[0., 0.])\n",
    "#QAOA: Settings of quantum algorithm\n",
    "\n",
    "result_102 = MinimumEigenOptimizer(qaoa_mes).solve(qp_m1)\n",
    "end = time.time()\n",
    "result_102, ('running time:', end - start)"
   ]
  },
  {
   "cell_type": "raw",
   "metadata": {},
   "source": [
    "start = time.time()\n",
    "\n",
    "result_111 = RecursiveMinimumEigenOptimizer(\n",
    "    min_eigen_optimizer=MinimumEigenOptimizer(qaoa_mes),\n",
    "    min_num_vars=5,\n",
    "    min_num_vars_optimizer=MinimumEigenOptimizer(exact_mes)\n",
    ").solve(qp_m1)\n",
    "\n",
    "end = time.time()\n",
    "result_111, ('running time:', end - start)\n",
    "\n",
    "#調用失敗"
   ]
  },
  {
   "cell_type": "markdown",
   "metadata": {},
   "source": [
    "<h4>qiskit.optim.-ibmq</h4>\n",
    "<h5>GroverOptimizer</h5>"
   ]
  },
  {
   "cell_type": "code",
   "execution_count": 49,
   "metadata": {},
   "outputs": [
    {
     "name": "stderr",
     "output_type": "stream",
     "text": [
      "The skip Qobj validation does not work for IBMQ provider. Disable it.\n"
     ]
    },
    {
     "ename": "IndexError",
     "evalue": "list index out of range",
     "output_type": "error",
     "traceback": [
      "\u001b[1;31m---------------------------------------------------------------------------\u001b[0m",
      "\u001b[1;31mIndexError\u001b[0m                                Traceback (most recent call last)",
      "\u001b[1;32m<ipython-input-49-b4686ab968b5>\u001b[0m in \u001b[0;36m<module>\u001b[1;34m\u001b[0m\n\u001b[0;32m      1\u001b[0m \u001b[0mstart\u001b[0m \u001b[1;33m=\u001b[0m \u001b[0mtime\u001b[0m\u001b[1;33m.\u001b[0m\u001b[0mtime\u001b[0m\u001b[1;33m(\u001b[0m\u001b[1;33m)\u001b[0m\u001b[1;33m\u001b[0m\u001b[1;33m\u001b[0m\u001b[0m\n\u001b[1;32m----> 2\u001b[1;33m result_24 = GroverOptimizer(\n\u001b[0m\u001b[0;32m      3\u001b[0m     \u001b[0mnum_value_qubits\u001b[0m\u001b[1;33m=\u001b[0m\u001b[1;36m3\u001b[0m\u001b[1;33m,\u001b[0m\u001b[1;33m\u001b[0m\u001b[1;33m\u001b[0m\u001b[0m\n\u001b[0;32m      4\u001b[0m     \u001b[0mquantum_instance\u001b[0m\u001b[1;33m=\u001b[0m\u001b[0mdevice_qa\u001b[0m\u001b[1;33m\u001b[0m\u001b[1;33m\u001b[0m\u001b[0m\n\u001b[0;32m      5\u001b[0m ).solve(qp_m1)\n",
      "\u001b[1;32m~\\Anaconda3\\envs\\quantumsphere\\lib\\site-packages\\qiskit\\optimization\\algorithms\\grover_optimizer.py\u001b[0m in \u001b[0;36msolve\u001b[1;34m(self, problem)\u001b[0m\n\u001b[0;32m    216\u001b[0m \u001b[1;33m\u001b[0m\u001b[0m\n\u001b[0;32m    217\u001b[0m                 \u001b[1;31m# Get the next outcome.\u001b[0m\u001b[1;33m\u001b[0m\u001b[1;33m\u001b[0m\u001b[1;33m\u001b[0m\u001b[0m\n\u001b[1;32m--> 218\u001b[1;33m                 \u001b[0moutcome\u001b[0m \u001b[1;33m=\u001b[0m \u001b[0mself\u001b[0m\u001b[1;33m.\u001b[0m\u001b[0m_measure\u001b[0m\u001b[1;33m(\u001b[0m\u001b[0mcircuit\u001b[0m\u001b[1;33m)\u001b[0m\u001b[1;33m\u001b[0m\u001b[1;33m\u001b[0m\u001b[0m\n\u001b[0m\u001b[0;32m    219\u001b[0m                 \u001b[0mk\u001b[0m \u001b[1;33m=\u001b[0m \u001b[0mint\u001b[0m\u001b[1;33m(\u001b[0m\u001b[0moutcome\u001b[0m\u001b[1;33m[\u001b[0m\u001b[1;36m0\u001b[0m\u001b[1;33m:\u001b[0m\u001b[0mn_key\u001b[0m\u001b[1;33m]\u001b[0m\u001b[1;33m,\u001b[0m \u001b[1;36m2\u001b[0m\u001b[1;33m)\u001b[0m\u001b[1;33m\u001b[0m\u001b[1;33m\u001b[0m\u001b[0m\n\u001b[0;32m    220\u001b[0m                 \u001b[0mv\u001b[0m \u001b[1;33m=\u001b[0m \u001b[0moutcome\u001b[0m\u001b[1;33m[\u001b[0m\u001b[0mn_key\u001b[0m\u001b[1;33m:\u001b[0m\u001b[0mn_key\u001b[0m \u001b[1;33m+\u001b[0m \u001b[0mn_value\u001b[0m\u001b[1;33m]\u001b[0m\u001b[1;33m\u001b[0m\u001b[1;33m\u001b[0m\u001b[0m\n",
      "\u001b[1;32m~\\Anaconda3\\envs\\quantumsphere\\lib\\site-packages\\qiskit\\optimization\\algorithms\\grover_optimizer.py\u001b[0m in \u001b[0;36m_measure\u001b[1;34m(self, circuit)\u001b[0m\n\u001b[0;32m    281\u001b[0m \u001b[1;33m\u001b[0m\u001b[0m\n\u001b[0;32m    282\u001b[0m         \u001b[1;31m# Pick a random outcome.\u001b[0m\u001b[1;33m\u001b[0m\u001b[1;33m\u001b[0m\u001b[1;33m\u001b[0m\u001b[0m\n\u001b[1;32m--> 283\u001b[1;33m         \u001b[0mfreq\u001b[0m\u001b[1;33m[\u001b[0m\u001b[1;33m-\u001b[0m\u001b[1;36m1\u001b[0m\u001b[1;33m]\u001b[0m \u001b[1;33m=\u001b[0m \u001b[1;33m(\u001b[0m\u001b[0mfreq\u001b[0m\u001b[1;33m[\u001b[0m\u001b[1;33m-\u001b[0m\u001b[1;36m1\u001b[0m\u001b[1;33m]\u001b[0m\u001b[1;33m[\u001b[0m\u001b[1;36m0\u001b[0m\u001b[1;33m]\u001b[0m\u001b[1;33m,\u001b[0m \u001b[1;36m1.0\u001b[0m \u001b[1;33m-\u001b[0m \u001b[0msum\u001b[0m\u001b[1;33m(\u001b[0m\u001b[0mx\u001b[0m\u001b[1;33m[\u001b[0m\u001b[1;36m1\u001b[0m\u001b[1;33m]\u001b[0m \u001b[1;32mfor\u001b[0m \u001b[0mx\u001b[0m \u001b[1;32min\u001b[0m \u001b[0mfreq\u001b[0m\u001b[1;33m[\u001b[0m\u001b[1;36m0\u001b[0m\u001b[1;33m:\u001b[0m\u001b[0mlen\u001b[0m\u001b[1;33m(\u001b[0m\u001b[0mfreq\u001b[0m\u001b[1;33m)\u001b[0m \u001b[1;33m-\u001b[0m \u001b[1;36m1\u001b[0m\u001b[1;33m]\u001b[0m\u001b[1;33m)\u001b[0m\u001b[1;33m)\u001b[0m\u001b[1;33m\u001b[0m\u001b[1;33m\u001b[0m\u001b[0m\n\u001b[0m\u001b[0;32m    284\u001b[0m         \u001b[0midx\u001b[0m \u001b[1;33m=\u001b[0m \u001b[0maqua_globals\u001b[0m\u001b[1;33m.\u001b[0m\u001b[0mrandom\u001b[0m\u001b[1;33m.\u001b[0m\u001b[0mchoice\u001b[0m\u001b[1;33m(\u001b[0m\u001b[0mlen\u001b[0m\u001b[1;33m(\u001b[0m\u001b[0mfreq\u001b[0m\u001b[1;33m)\u001b[0m\u001b[1;33m,\u001b[0m \u001b[1;36m1\u001b[0m\u001b[1;33m,\u001b[0m \u001b[0mp\u001b[0m\u001b[1;33m=\u001b[0m\u001b[1;33m[\u001b[0m\u001b[0mx\u001b[0m\u001b[1;33m[\u001b[0m\u001b[1;36m1\u001b[0m\u001b[1;33m]\u001b[0m \u001b[1;32mfor\u001b[0m \u001b[0mx\u001b[0m \u001b[1;32min\u001b[0m \u001b[0mfreq\u001b[0m\u001b[1;33m]\u001b[0m\u001b[1;33m)\u001b[0m\u001b[1;33m[\u001b[0m\u001b[1;36m0\u001b[0m\u001b[1;33m]\u001b[0m\u001b[1;33m\u001b[0m\u001b[1;33m\u001b[0m\u001b[0m\n\u001b[0;32m    285\u001b[0m         \u001b[0mlogger\u001b[0m\u001b[1;33m.\u001b[0m\u001b[0minfo\u001b[0m\u001b[1;33m(\u001b[0m\u001b[1;34m'Frequencies: %s'\u001b[0m\u001b[1;33m,\u001b[0m \u001b[0mfreq\u001b[0m\u001b[1;33m)\u001b[0m\u001b[1;33m\u001b[0m\u001b[1;33m\u001b[0m\u001b[0m\n",
      "\u001b[1;31mIndexError\u001b[0m: list index out of range"
     ]
    }
   ],
   "source": [
    "start = time.time()\n",
    "result_24 = GroverOptimizer(\n",
    "    num_value_qubits=3,\n",
    "    quantum_instance=device_qa\n",
    ").solve(qp_m1)\n",
    "end = time.time()\n",
    "result_24, ('running time:', end - start)"
   ]
  },
  {
   "cell_type": "code",
   "execution_count": 18,
   "metadata": {},
   "outputs": [
    {
     "name": "stderr",
     "output_type": "stream",
     "text": [
      "The skip Qobj validation does not work for IBMQ provider. Disable it.\n"
     ]
    },
    {
     "ename": "KeyboardInterrupt",
     "evalue": "",
     "output_type": "error",
     "traceback": [
      "\u001b[1;31m---------------------------------------------------------------------------\u001b[0m",
      "\u001b[1;31mKeyboardInterrupt\u001b[0m                         Traceback (most recent call last)",
      "\u001b[1;32m<ipython-input-18-9debba4d2079>\u001b[0m in \u001b[0;36m<module>\u001b[1;34m\u001b[0m\n\u001b[0;32m     11\u001b[0m \u001b[1;31m#QAOA: Settings of quantum algorithm\u001b[0m\u001b[1;33m\u001b[0m\u001b[1;33m\u001b[0m\u001b[1;33m\u001b[0m\u001b[0m\n\u001b[0;32m     12\u001b[0m \u001b[1;33m\u001b[0m\u001b[0m\n\u001b[1;32m---> 13\u001b[1;33m \u001b[0mresult_102\u001b[0m \u001b[1;33m=\u001b[0m \u001b[0mMinimumEigenOptimizer\u001b[0m\u001b[1;33m(\u001b[0m\u001b[0mqaoa_mes\u001b[0m\u001b[1;33m)\u001b[0m\u001b[1;33m.\u001b[0m\u001b[0msolve\u001b[0m\u001b[1;33m(\u001b[0m\u001b[0mqp_m1\u001b[0m\u001b[1;33m)\u001b[0m\u001b[1;33m\u001b[0m\u001b[1;33m\u001b[0m\u001b[0m\n\u001b[0m\u001b[0;32m     14\u001b[0m \u001b[0mend\u001b[0m \u001b[1;33m=\u001b[0m \u001b[0mtime\u001b[0m\u001b[1;33m.\u001b[0m\u001b[0mtime\u001b[0m\u001b[1;33m(\u001b[0m\u001b[1;33m)\u001b[0m\u001b[1;33m\u001b[0m\u001b[1;33m\u001b[0m\u001b[0m\n\u001b[0;32m     15\u001b[0m \u001b[0mresult_102\u001b[0m\u001b[1;33m,\u001b[0m \u001b[1;33m(\u001b[0m\u001b[1;34m'running time:'\u001b[0m\u001b[1;33m,\u001b[0m \u001b[0mend\u001b[0m \u001b[1;33m-\u001b[0m \u001b[0mstart\u001b[0m\u001b[1;33m)\u001b[0m\u001b[1;33m\u001b[0m\u001b[1;33m\u001b[0m\u001b[0m\n",
      "\u001b[1;32m~\\Anaconda3\\envs\\quantumsphere\\lib\\site-packages\\qiskit\\optimization\\algorithms\\minimum_eigen_optimizer.py\u001b[0m in \u001b[0;36msolve\u001b[1;34m(self, problem)\u001b[0m\n\u001b[0;32m    154\u001b[0m \u001b[1;33m\u001b[0m\u001b[0m\n\u001b[0;32m    155\u001b[0m             \u001b[1;31m# approximate ground state of operator using min eigen solver\u001b[0m\u001b[1;33m\u001b[0m\u001b[1;33m\u001b[0m\u001b[1;33m\u001b[0m\u001b[0m\n\u001b[1;32m--> 156\u001b[1;33m             \u001b[0meigen_results\u001b[0m \u001b[1;33m=\u001b[0m \u001b[0mself\u001b[0m\u001b[1;33m.\u001b[0m\u001b[0m_min_eigen_solver\u001b[0m\u001b[1;33m.\u001b[0m\u001b[0mcompute_minimum_eigenvalue\u001b[0m\u001b[1;33m(\u001b[0m\u001b[0moperator\u001b[0m\u001b[1;33m)\u001b[0m\u001b[1;33m\u001b[0m\u001b[1;33m\u001b[0m\u001b[0m\n\u001b[0m\u001b[0;32m    157\u001b[0m \u001b[1;33m\u001b[0m\u001b[0m\n\u001b[0;32m    158\u001b[0m             \u001b[1;31m# analyze results\u001b[0m\u001b[1;33m\u001b[0m\u001b[1;33m\u001b[0m\u001b[1;33m\u001b[0m\u001b[0m\n",
      "\u001b[1;32m~\\Anaconda3\\envs\\quantumsphere\\lib\\site-packages\\qiskit\\aqua\\algorithms\\minimum_eigen_solvers\\vqe.py\u001b[0m in \u001b[0;36mcompute_minimum_eigenvalue\u001b[1;34m(self, operator, aux_operators)\u001b[0m\n\u001b[0;32m    455\u001b[0m     ) -> MinimumEigensolverResult:\n\u001b[0;32m    456\u001b[0m         \u001b[0msuper\u001b[0m\u001b[1;33m(\u001b[0m\u001b[1;33m)\u001b[0m\u001b[1;33m.\u001b[0m\u001b[0mcompute_minimum_eigenvalue\u001b[0m\u001b[1;33m(\u001b[0m\u001b[0moperator\u001b[0m\u001b[1;33m,\u001b[0m \u001b[0maux_operators\u001b[0m\u001b[1;33m)\u001b[0m\u001b[1;33m\u001b[0m\u001b[1;33m\u001b[0m\u001b[0m\n\u001b[1;32m--> 457\u001b[1;33m         \u001b[1;32mreturn\u001b[0m \u001b[0mself\u001b[0m\u001b[1;33m.\u001b[0m\u001b[0m_run\u001b[0m\u001b[1;33m(\u001b[0m\u001b[1;33m)\u001b[0m\u001b[1;33m\u001b[0m\u001b[1;33m\u001b[0m\u001b[0m\n\u001b[0m\u001b[0;32m    458\u001b[0m \u001b[1;33m\u001b[0m\u001b[0m\n\u001b[0;32m    459\u001b[0m     def _energy_evaluation(self, parameters: Union[List[float], np.ndarray]\n",
      "\u001b[1;32m~\\Anaconda3\\envs\\quantumsphere\\lib\\site-packages\\qiskit\\aqua\\algorithms\\minimum_eigen_solvers\\vqe.py\u001b[0m in \u001b[0;36m_run\u001b[1;34m(self)\u001b[0m\n\u001b[0;32m    394\u001b[0m \u001b[1;33m\u001b[0m\u001b[0m\n\u001b[0;32m    395\u001b[0m         \u001b[0mself\u001b[0m\u001b[1;33m.\u001b[0m\u001b[0m_eval_count\u001b[0m \u001b[1;33m=\u001b[0m \u001b[1;36m0\u001b[0m\u001b[1;33m\u001b[0m\u001b[1;33m\u001b[0m\u001b[0m\n\u001b[1;32m--> 396\u001b[1;33m         vqresult = self.find_minimum(initial_point=self.initial_point,\n\u001b[0m\u001b[0;32m    397\u001b[0m                                      \u001b[0mvar_form\u001b[0m\u001b[1;33m=\u001b[0m\u001b[0mself\u001b[0m\u001b[1;33m.\u001b[0m\u001b[0mvar_form\u001b[0m\u001b[1;33m,\u001b[0m\u001b[1;33m\u001b[0m\u001b[1;33m\u001b[0m\u001b[0m\n\u001b[0;32m    398\u001b[0m                                      \u001b[0mcost_fn\u001b[0m\u001b[1;33m=\u001b[0m\u001b[0mself\u001b[0m\u001b[1;33m.\u001b[0m\u001b[0m_energy_evaluation\u001b[0m\u001b[1;33m,\u001b[0m\u001b[1;33m\u001b[0m\u001b[1;33m\u001b[0m\u001b[0m\n",
      "\u001b[1;32m~\\Anaconda3\\envs\\quantumsphere\\lib\\site-packages\\qiskit\\aqua\\algorithms\\vq_algorithm.py\u001b[0m in \u001b[0;36mfind_minimum\u001b[1;34m(self, initial_point, var_form, cost_fn, optimizer, gradient_fn)\u001b[0m\n\u001b[0;32m    200\u001b[0m \u001b[1;33m\u001b[0m\u001b[0m\n\u001b[0;32m    201\u001b[0m         \u001b[0mlogger\u001b[0m\u001b[1;33m.\u001b[0m\u001b[0minfo\u001b[0m\u001b[1;33m(\u001b[0m\u001b[1;34m'Starting optimizer.\\nbounds=%s\\ninitial point=%s'\u001b[0m\u001b[1;33m,\u001b[0m \u001b[0mbounds\u001b[0m\u001b[1;33m,\u001b[0m \u001b[0minitial_point\u001b[0m\u001b[1;33m)\u001b[0m\u001b[1;33m\u001b[0m\u001b[1;33m\u001b[0m\u001b[0m\n\u001b[1;32m--> 202\u001b[1;33m         opt_params, opt_val, num_optimizer_evals = optimizer.optimize(nparms,\n\u001b[0m\u001b[0;32m    203\u001b[0m                                                                       \u001b[0mcost_fn\u001b[0m\u001b[1;33m,\u001b[0m\u001b[1;33m\u001b[0m\u001b[1;33m\u001b[0m\u001b[0m\n\u001b[0;32m    204\u001b[0m                                                                       \u001b[0mvariable_bounds\u001b[0m\u001b[1;33m=\u001b[0m\u001b[0mbounds\u001b[0m\u001b[1;33m,\u001b[0m\u001b[1;33m\u001b[0m\u001b[1;33m\u001b[0m\u001b[0m\n",
      "\u001b[1;32m~\\Anaconda3\\envs\\quantumsphere\\lib\\site-packages\\qiskit\\aqua\\components\\optimizers\\slsqp.py\u001b[0m in \u001b[0;36moptimize\u001b[1;34m(self, num_vars, objective_function, gradient_function, variable_bounds, initial_point)\u001b[0m\n\u001b[0;32m     83\u001b[0m                                                          self._max_evals_grouped))\n\u001b[0;32m     84\u001b[0m \u001b[1;33m\u001b[0m\u001b[0m\n\u001b[1;32m---> 85\u001b[1;33m         res = minimize(objective_function, initial_point, jac=gradient_function,\n\u001b[0m\u001b[0;32m     86\u001b[0m                        \u001b[0mtol\u001b[0m\u001b[1;33m=\u001b[0m\u001b[0mself\u001b[0m\u001b[1;33m.\u001b[0m\u001b[0m_tol\u001b[0m\u001b[1;33m,\u001b[0m \u001b[0mbounds\u001b[0m\u001b[1;33m=\u001b[0m\u001b[0mvariable_bounds\u001b[0m\u001b[1;33m,\u001b[0m \u001b[0mmethod\u001b[0m\u001b[1;33m=\u001b[0m\u001b[1;34m\"SLSQP\"\u001b[0m\u001b[1;33m,\u001b[0m\u001b[1;33m\u001b[0m\u001b[1;33m\u001b[0m\u001b[0m\n\u001b[0;32m     87\u001b[0m                        options=self._options)\n",
      "\u001b[1;32m~\\Anaconda3\\envs\\quantumsphere\\lib\\site-packages\\scipy\\optimize\\_minimize.py\u001b[0m in \u001b[0;36mminimize\u001b[1;34m(fun, x0, args, method, jac, hess, hessp, bounds, constraints, tol, callback, options)\u001b[0m\n\u001b[0;32m    623\u001b[0m         \u001b[1;32mreturn\u001b[0m \u001b[0m_minimize_cobyla\u001b[0m\u001b[1;33m(\u001b[0m\u001b[0mfun\u001b[0m\u001b[1;33m,\u001b[0m \u001b[0mx0\u001b[0m\u001b[1;33m,\u001b[0m \u001b[0margs\u001b[0m\u001b[1;33m,\u001b[0m \u001b[0mconstraints\u001b[0m\u001b[1;33m,\u001b[0m \u001b[1;33m**\u001b[0m\u001b[0moptions\u001b[0m\u001b[1;33m)\u001b[0m\u001b[1;33m\u001b[0m\u001b[1;33m\u001b[0m\u001b[0m\n\u001b[0;32m    624\u001b[0m     \u001b[1;32melif\u001b[0m \u001b[0mmeth\u001b[0m \u001b[1;33m==\u001b[0m \u001b[1;34m'slsqp'\u001b[0m\u001b[1;33m:\u001b[0m\u001b[1;33m\u001b[0m\u001b[1;33m\u001b[0m\u001b[0m\n\u001b[1;32m--> 625\u001b[1;33m         return _minimize_slsqp(fun, x0, args, jac, bounds,\n\u001b[0m\u001b[0;32m    626\u001b[0m                                constraints, callback=callback, **options)\n\u001b[0;32m    627\u001b[0m     \u001b[1;32melif\u001b[0m \u001b[0mmeth\u001b[0m \u001b[1;33m==\u001b[0m \u001b[1;34m'trust-constr'\u001b[0m\u001b[1;33m:\u001b[0m\u001b[1;33m\u001b[0m\u001b[1;33m\u001b[0m\u001b[0m\n",
      "\u001b[1;32m~\\Anaconda3\\envs\\quantumsphere\\lib\\site-packages\\scipy\\optimize\\slsqp.py\u001b[0m in \u001b[0;36m_minimize_slsqp\u001b[1;34m(func, x0, args, jac, bounds, constraints, maxiter, ftol, iprint, disp, eps, callback, finite_diff_rel_step, **unknown_options)\u001b[0m\n\u001b[0;32m    366\u001b[0m \u001b[1;33m\u001b[0m\u001b[0m\n\u001b[0;32m    367\u001b[0m     \u001b[1;31m# ScalarFunction provides function and gradient evaluation\u001b[0m\u001b[1;33m\u001b[0m\u001b[1;33m\u001b[0m\u001b[1;33m\u001b[0m\u001b[0m\n\u001b[1;32m--> 368\u001b[1;33m     sf = _prepare_scalar_function(func, x, jac=jac, args=args, epsilon=eps,\n\u001b[0m\u001b[0;32m    369\u001b[0m                                   \u001b[0mfinite_diff_rel_step\u001b[0m\u001b[1;33m=\u001b[0m\u001b[0mfinite_diff_rel_step\u001b[0m\u001b[1;33m,\u001b[0m\u001b[1;33m\u001b[0m\u001b[1;33m\u001b[0m\u001b[0m\n\u001b[0;32m    370\u001b[0m                                   bounds=new_bounds)\n",
      "\u001b[1;32m~\\Anaconda3\\envs\\quantumsphere\\lib\\site-packages\\scipy\\optimize\\optimize.py\u001b[0m in \u001b[0;36m_prepare_scalar_function\u001b[1;34m(fun, x0, jac, args, bounds, epsilon, finite_diff_rel_step, hess)\u001b[0m\n\u001b[0;32m    259\u001b[0m     \u001b[1;31m# ScalarFunction caches. Reuse of fun(x) during grad\u001b[0m\u001b[1;33m\u001b[0m\u001b[1;33m\u001b[0m\u001b[1;33m\u001b[0m\u001b[0m\n\u001b[0;32m    260\u001b[0m     \u001b[1;31m# calculation reduces overall function evaluations.\u001b[0m\u001b[1;33m\u001b[0m\u001b[1;33m\u001b[0m\u001b[1;33m\u001b[0m\u001b[0m\n\u001b[1;32m--> 261\u001b[1;33m     sf = ScalarFunction(fun, x0, args, grad, hess,\n\u001b[0m\u001b[0;32m    262\u001b[0m                         finite_diff_rel_step, bounds, epsilon=epsilon)\n\u001b[0;32m    263\u001b[0m \u001b[1;33m\u001b[0m\u001b[0m\n",
      "\u001b[1;32m~\\Anaconda3\\envs\\quantumsphere\\lib\\site-packages\\scipy\\optimize\\_differentiable_functions.py\u001b[0m in \u001b[0;36m__init__\u001b[1;34m(self, fun, x0, args, grad, hess, finite_diff_rel_step, finite_diff_bounds, epsilon)\u001b[0m\n\u001b[0;32m     74\u001b[0m \u001b[1;33m\u001b[0m\u001b[0m\n\u001b[0;32m     75\u001b[0m         \u001b[0mself\u001b[0m\u001b[1;33m.\u001b[0m\u001b[0m_update_fun_impl\u001b[0m \u001b[1;33m=\u001b[0m \u001b[0mupdate_fun\u001b[0m\u001b[1;33m\u001b[0m\u001b[1;33m\u001b[0m\u001b[0m\n\u001b[1;32m---> 76\u001b[1;33m         \u001b[0mself\u001b[0m\u001b[1;33m.\u001b[0m\u001b[0m_update_fun\u001b[0m\u001b[1;33m(\u001b[0m\u001b[1;33m)\u001b[0m\u001b[1;33m\u001b[0m\u001b[1;33m\u001b[0m\u001b[0m\n\u001b[0m\u001b[0;32m     77\u001b[0m \u001b[1;33m\u001b[0m\u001b[0m\n\u001b[0;32m     78\u001b[0m         \u001b[1;31m# Gradient evaluation\u001b[0m\u001b[1;33m\u001b[0m\u001b[1;33m\u001b[0m\u001b[1;33m\u001b[0m\u001b[0m\n",
      "\u001b[1;32m~\\Anaconda3\\envs\\quantumsphere\\lib\\site-packages\\scipy\\optimize\\_differentiable_functions.py\u001b[0m in \u001b[0;36m_update_fun\u001b[1;34m(self)\u001b[0m\n\u001b[0;32m    164\u001b[0m     \u001b[1;32mdef\u001b[0m \u001b[0m_update_fun\u001b[0m\u001b[1;33m(\u001b[0m\u001b[0mself\u001b[0m\u001b[1;33m)\u001b[0m\u001b[1;33m:\u001b[0m\u001b[1;33m\u001b[0m\u001b[1;33m\u001b[0m\u001b[0m\n\u001b[0;32m    165\u001b[0m         \u001b[1;32mif\u001b[0m \u001b[1;32mnot\u001b[0m \u001b[0mself\u001b[0m\u001b[1;33m.\u001b[0m\u001b[0mf_updated\u001b[0m\u001b[1;33m:\u001b[0m\u001b[1;33m\u001b[0m\u001b[1;33m\u001b[0m\u001b[0m\n\u001b[1;32m--> 166\u001b[1;33m             \u001b[0mself\u001b[0m\u001b[1;33m.\u001b[0m\u001b[0m_update_fun_impl\u001b[0m\u001b[1;33m(\u001b[0m\u001b[1;33m)\u001b[0m\u001b[1;33m\u001b[0m\u001b[1;33m\u001b[0m\u001b[0m\n\u001b[0m\u001b[0;32m    167\u001b[0m             \u001b[0mself\u001b[0m\u001b[1;33m.\u001b[0m\u001b[0mf_updated\u001b[0m \u001b[1;33m=\u001b[0m \u001b[1;32mTrue\u001b[0m\u001b[1;33m\u001b[0m\u001b[1;33m\u001b[0m\u001b[0m\n\u001b[0;32m    168\u001b[0m \u001b[1;33m\u001b[0m\u001b[0m\n",
      "\u001b[1;32m~\\Anaconda3\\envs\\quantumsphere\\lib\\site-packages\\scipy\\optimize\\_differentiable_functions.py\u001b[0m in \u001b[0;36mupdate_fun\u001b[1;34m()\u001b[0m\n\u001b[0;32m     71\u001b[0m \u001b[1;33m\u001b[0m\u001b[0m\n\u001b[0;32m     72\u001b[0m         \u001b[1;32mdef\u001b[0m \u001b[0mupdate_fun\u001b[0m\u001b[1;33m(\u001b[0m\u001b[1;33m)\u001b[0m\u001b[1;33m:\u001b[0m\u001b[1;33m\u001b[0m\u001b[1;33m\u001b[0m\u001b[0m\n\u001b[1;32m---> 73\u001b[1;33m             \u001b[0mself\u001b[0m\u001b[1;33m.\u001b[0m\u001b[0mf\u001b[0m \u001b[1;33m=\u001b[0m \u001b[0mfun_wrapped\u001b[0m\u001b[1;33m(\u001b[0m\u001b[0mself\u001b[0m\u001b[1;33m.\u001b[0m\u001b[0mx\u001b[0m\u001b[1;33m)\u001b[0m\u001b[1;33m\u001b[0m\u001b[1;33m\u001b[0m\u001b[0m\n\u001b[0m\u001b[0;32m     74\u001b[0m \u001b[1;33m\u001b[0m\u001b[0m\n\u001b[0;32m     75\u001b[0m         \u001b[0mself\u001b[0m\u001b[1;33m.\u001b[0m\u001b[0m_update_fun_impl\u001b[0m \u001b[1;33m=\u001b[0m \u001b[0mupdate_fun\u001b[0m\u001b[1;33m\u001b[0m\u001b[1;33m\u001b[0m\u001b[0m\n",
      "\u001b[1;32m~\\Anaconda3\\envs\\quantumsphere\\lib\\site-packages\\scipy\\optimize\\_differentiable_functions.py\u001b[0m in \u001b[0;36mfun_wrapped\u001b[1;34m(x)\u001b[0m\n\u001b[0;32m     68\u001b[0m         \u001b[1;32mdef\u001b[0m \u001b[0mfun_wrapped\u001b[0m\u001b[1;33m(\u001b[0m\u001b[0mx\u001b[0m\u001b[1;33m)\u001b[0m\u001b[1;33m:\u001b[0m\u001b[1;33m\u001b[0m\u001b[1;33m\u001b[0m\u001b[0m\n\u001b[0;32m     69\u001b[0m             \u001b[0mself\u001b[0m\u001b[1;33m.\u001b[0m\u001b[0mnfev\u001b[0m \u001b[1;33m+=\u001b[0m \u001b[1;36m1\u001b[0m\u001b[1;33m\u001b[0m\u001b[1;33m\u001b[0m\u001b[0m\n\u001b[1;32m---> 70\u001b[1;33m             \u001b[1;32mreturn\u001b[0m \u001b[0mfun\u001b[0m\u001b[1;33m(\u001b[0m\u001b[0mx\u001b[0m\u001b[1;33m,\u001b[0m \u001b[1;33m*\u001b[0m\u001b[0margs\u001b[0m\u001b[1;33m)\u001b[0m\u001b[1;33m\u001b[0m\u001b[1;33m\u001b[0m\u001b[0m\n\u001b[0m\u001b[0;32m     71\u001b[0m \u001b[1;33m\u001b[0m\u001b[0m\n\u001b[0;32m     72\u001b[0m         \u001b[1;32mdef\u001b[0m \u001b[0mupdate_fun\u001b[0m\u001b[1;33m(\u001b[0m\u001b[1;33m)\u001b[0m\u001b[1;33m:\u001b[0m\u001b[1;33m\u001b[0m\u001b[1;33m\u001b[0m\u001b[0m\n",
      "\u001b[1;32m~\\Anaconda3\\envs\\quantumsphere\\lib\\site-packages\\qiskit\\aqua\\algorithms\\minimum_eigen_solvers\\vqe.py\u001b[0m in \u001b[0;36m_energy_evaluation\u001b[1;34m(self, parameters)\u001b[0m\n\u001b[0;32m    486\u001b[0m \u001b[1;33m\u001b[0m\u001b[0m\n\u001b[0;32m    487\u001b[0m         \u001b[0mstart_time\u001b[0m \u001b[1;33m=\u001b[0m \u001b[0mtime\u001b[0m\u001b[1;33m(\u001b[0m\u001b[1;33m)\u001b[0m\u001b[1;33m\u001b[0m\u001b[1;33m\u001b[0m\u001b[0m\n\u001b[1;32m--> 488\u001b[1;33m         \u001b[0msampled_expect_op\u001b[0m \u001b[1;33m=\u001b[0m \u001b[0mself\u001b[0m\u001b[1;33m.\u001b[0m\u001b[0m_circuit_sampler\u001b[0m\u001b[1;33m.\u001b[0m\u001b[0mconvert\u001b[0m\u001b[1;33m(\u001b[0m\u001b[0mself\u001b[0m\u001b[1;33m.\u001b[0m\u001b[0m_expect_op\u001b[0m\u001b[1;33m,\u001b[0m \u001b[0mparams\u001b[0m\u001b[1;33m=\u001b[0m\u001b[0mparam_bindings\u001b[0m\u001b[1;33m)\u001b[0m\u001b[1;33m\u001b[0m\u001b[1;33m\u001b[0m\u001b[0m\n\u001b[0m\u001b[0;32m    489\u001b[0m         \u001b[0mmeans\u001b[0m \u001b[1;33m=\u001b[0m \u001b[0mnp\u001b[0m\u001b[1;33m.\u001b[0m\u001b[0mreal\u001b[0m\u001b[1;33m(\u001b[0m\u001b[0msampled_expect_op\u001b[0m\u001b[1;33m.\u001b[0m\u001b[0meval\u001b[0m\u001b[1;33m(\u001b[0m\u001b[1;33m)\u001b[0m\u001b[1;33m)\u001b[0m\u001b[1;33m\u001b[0m\u001b[1;33m\u001b[0m\u001b[0m\n\u001b[0;32m    490\u001b[0m \u001b[1;33m\u001b[0m\u001b[0m\n",
      "\u001b[1;32m~\\Anaconda3\\envs\\quantumsphere\\lib\\site-packages\\qiskit\\aqua\\operators\\converters\\circuit_sampler.py\u001b[0m in \u001b[0;36mconvert\u001b[1;34m(self, operator, params)\u001b[0m\n\u001b[0;32m    195\u001b[0m         \u001b[0mcircs\u001b[0m \u001b[1;33m=\u001b[0m \u001b[0mlist\u001b[0m\u001b[1;33m(\u001b[0m\u001b[0mself\u001b[0m\u001b[1;33m.\u001b[0m\u001b[0m_circuit_ops_cache\u001b[0m\u001b[1;33m.\u001b[0m\u001b[0mvalues\u001b[0m\u001b[1;33m(\u001b[0m\u001b[1;33m)\u001b[0m\u001b[1;33m)\u001b[0m \u001b[1;32mif\u001b[0m \u001b[1;32mnot\u001b[0m \u001b[0mself\u001b[0m\u001b[1;33m.\u001b[0m\u001b[0m_transpiled_circ_cache\u001b[0m \u001b[1;32melse\u001b[0m \u001b[1;32mNone\u001b[0m\u001b[1;33m\u001b[0m\u001b[1;33m\u001b[0m\u001b[0m\n\u001b[0;32m    196\u001b[0m         \u001b[0mp_b\u001b[0m \u001b[1;33m=\u001b[0m \u001b[0mcast\u001b[0m\u001b[1;33m(\u001b[0m\u001b[0mList\u001b[0m\u001b[1;33m[\u001b[0m\u001b[0mDict\u001b[0m\u001b[1;33m[\u001b[0m\u001b[0mParameterExpression\u001b[0m\u001b[1;33m,\u001b[0m \u001b[0mList\u001b[0m\u001b[1;33m[\u001b[0m\u001b[0mfloat\u001b[0m\u001b[1;33m]\u001b[0m\u001b[1;33m]\u001b[0m\u001b[1;33m]\u001b[0m\u001b[1;33m,\u001b[0m \u001b[0mparam_bindings\u001b[0m\u001b[1;33m)\u001b[0m\u001b[1;33m\u001b[0m\u001b[1;33m\u001b[0m\u001b[0m\n\u001b[1;32m--> 197\u001b[1;33m         sampled_statefn_dicts = self.sample_circuits(circuit_sfns=circs,\n\u001b[0m\u001b[0;32m    198\u001b[0m                                                      param_bindings=p_b)\n\u001b[0;32m    199\u001b[0m \u001b[1;33m\u001b[0m\u001b[0m\n",
      "\u001b[1;32m~\\Anaconda3\\envs\\quantumsphere\\lib\\site-packages\\qiskit\\aqua\\operators\\converters\\circuit_sampler.py\u001b[0m in \u001b[0;36msample_circuits\u001b[1;34m(self, circuit_sfns, param_bindings)\u001b[0m\n\u001b[0;32m    273\u001b[0m             \u001b[0mready_circs\u001b[0m \u001b[1;33m=\u001b[0m \u001b[0mself\u001b[0m\u001b[1;33m.\u001b[0m\u001b[0m_transpiled_circ_cache\u001b[0m\u001b[1;33m\u001b[0m\u001b[1;33m\u001b[0m\u001b[0m\n\u001b[0;32m    274\u001b[0m \u001b[1;33m\u001b[0m\u001b[0m\n\u001b[1;32m--> 275\u001b[1;33m         results = self.quantum_instance.execute(ready_circs,\n\u001b[0m\u001b[0;32m    276\u001b[0m                                                 had_transpiled=self._transpile_before_bind)\n\u001b[0;32m    277\u001b[0m \u001b[1;33m\u001b[0m\u001b[0m\n",
      "\u001b[1;32m~\\Anaconda3\\envs\\quantumsphere\\lib\\site-packages\\qiskit\\aqua\\quantum_instance.py\u001b[0m in \u001b[0;36mexecute\u001b[1;34m(self, circuits, had_transpiled)\u001b[0m\n\u001b[0;32m    370\u001b[0m \u001b[1;33m\u001b[0m\u001b[0m\n\u001b[0;32m    371\u001b[0m         \u001b[1;32melse\u001b[0m\u001b[1;33m:\u001b[0m\u001b[1;33m\u001b[0m\u001b[1;33m\u001b[0m\u001b[0m\n\u001b[1;32m--> 372\u001b[1;33m             result = run_qobj(qobj, self._backend, self._qjob_config,\n\u001b[0m\u001b[0;32m    373\u001b[0m                               \u001b[0mself\u001b[0m\u001b[1;33m.\u001b[0m\u001b[0m_backend_options\u001b[0m\u001b[1;33m,\u001b[0m \u001b[0mself\u001b[0m\u001b[1;33m.\u001b[0m\u001b[0m_noise_config\u001b[0m\u001b[1;33m,\u001b[0m\u001b[1;33m\u001b[0m\u001b[1;33m\u001b[0m\u001b[0m\n\u001b[0;32m    374\u001b[0m                               self._skip_qobj_validation, self._job_callback)\n",
      "\u001b[1;32m~\\Anaconda3\\envs\\quantumsphere\\lib\\site-packages\\qiskit\\aqua\\utils\\run_circuits.py\u001b[0m in \u001b[0;36mrun_qobj\u001b[1;34m(qobj, backend, qjob_config, backend_options, noise_config, skip_qobj_validation, job_callback)\u001b[0m\n\u001b[0;32m    261\u001b[0m                     \u001b[1;32mif\u001b[0m \u001b[0mjob_callback\u001b[0m \u001b[1;32mis\u001b[0m \u001b[1;32mnot\u001b[0m \u001b[1;32mNone\u001b[0m\u001b[1;33m:\u001b[0m\u001b[1;33m\u001b[0m\u001b[1;33m\u001b[0m\u001b[0m\n\u001b[0;32m    262\u001b[0m                         \u001b[0mjob_callback\u001b[0m\u001b[1;33m(\u001b[0m\u001b[0mjob_id\u001b[0m\u001b[1;33m,\u001b[0m \u001b[0mjob_status\u001b[0m\u001b[1;33m,\u001b[0m \u001b[0mqueue_position\u001b[0m\u001b[1;33m,\u001b[0m \u001b[0mjob\u001b[0m\u001b[1;33m)\u001b[0m\u001b[1;33m\u001b[0m\u001b[1;33m\u001b[0m\u001b[0m\n\u001b[1;32m--> 263\u001b[1;33m                     \u001b[0mtime\u001b[0m\u001b[1;33m.\u001b[0m\u001b[0msleep\u001b[0m\u001b[1;33m(\u001b[0m\u001b[0mqjob_config\u001b[0m\u001b[1;33m[\u001b[0m\u001b[1;34m'wait'\u001b[0m\u001b[1;33m]\u001b[0m\u001b[1;33m)\u001b[0m\u001b[1;33m\u001b[0m\u001b[1;33m\u001b[0m\u001b[0m\n\u001b[0m\u001b[0;32m    264\u001b[0m \u001b[1;33m\u001b[0m\u001b[0m\n\u001b[0;32m    265\u001b[0m                 \u001b[1;31m# get result after the status is DONE\u001b[0m\u001b[1;33m\u001b[0m\u001b[1;33m\u001b[0m\u001b[1;33m\u001b[0m\u001b[0m\n",
      "\u001b[1;31mKeyboardInterrupt\u001b[0m: "
     ]
    }
   ],
   "source": [
    "aqua_globals.random_seed = 10598\n",
    "\n",
    "start = time.time()\n",
    "qaoa_mes = QAOA(\n",
    "    quantum_instance = QuantumInstance(\n",
    "        device_qa,\n",
    "        seed_simulator=aqua_globals.random_seed,\n",
    "        seed_transpiler=aqua_globals.random_seed\n",
    "    ),\n",
    "    initial_point=[0., 0.])\n",
    "#QAOA: Settings of quantum algorithm\n",
    "\n",
    "result_102 = MinimumEigenOptimizer(qaoa_mes).solve(qp_m1)\n",
    "end = time.time()\n",
    "result_102, ('running time:', end - start)"
   ]
  },
  {
   "cell_type": "code",
   "execution_count": null,
   "metadata": {},
   "outputs": [],
   "source": []
  },
  {
   "cell_type": "code",
   "execution_count": null,
   "metadata": {},
   "outputs": [],
   "source": []
  },
  {
   "cell_type": "code",
   "execution_count": null,
   "metadata": {},
   "outputs": [],
   "source": [
    "import qiskit.tools.jupyter\n",
    "%qiskit_version_table"
   ]
  },
  {
   "cell_type": "code",
   "execution_count": null,
   "metadata": {},
   "outputs": [],
   "source": []
  }
 ],
 "metadata": {
  "kernelspec": {
   "display_name": "Python 3.8.10 64-bit",
   "language": "python",
   "name": "python3"
  },
  "language_info": {
   "codemirror_mode": {
    "name": "ipython",
    "version": 3
   },
   "file_extension": ".py",
   "mimetype": "text/x-python",
   "name": "python",
   "nbconvert_exporter": "python",
   "pygments_lexer": "ipython3",
   "version": "3.8.10"
  },
  "vscode": {
   "interpreter": {
    "hash": "31f2aee4e71d21fbe5cf8b01ff0e069b9275f58929596ceb00d14d90e3e16cd6"
   }
  }
 },
 "nbformat": 4,
 "nbformat_minor": 4
}
